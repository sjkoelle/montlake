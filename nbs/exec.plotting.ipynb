{
 "cells": [
  {
   "cell_type": "code",
   "execution_count": null,
   "id": "42859084",
   "metadata": {},
   "outputs": [],
   "source": [
    "# default_exp exec.plotting"
   ]
  },
  {
   "cell_type": "code",
   "execution_count": 4,
   "id": "0b614b22",
   "metadata": {},
   "outputs": [],
   "source": [
    "# export\n",
    "from montlake.atomgeom.features import get_features,get_D_feats_feats\n",
    "from montlake.atomgeom.utils import get_atoms_4\n",
    "from montlake.simulations.rigidethanol import get_rigid_ethanol_data\n",
    "from montlake.utils.utils import get_234_indices, get_atoms3_full, get_atoms4_full, data_stream_custom_range, get_cosines\n",
    "from montlake.geometry.geometry import get_geom, get_wlpca_tangent_sel, get_rm_tangent_sel\n",
    "from montlake.gradients.estimate import get_grads_pullback\n",
    "from montlake.statistics.normalization import normalize_L212\n",
    "from montlake.optimization.gradientgrouplasso import get_sr_lambda_parallel\n",
    "from montlake.optimization.utils import get_selected_function_ids,get_selected_functions_lm2\n",
    "from montlake.utils.replicates import Replicate, get_supports_brute\n",
    "from montlake.plotting.manifolds import plot_manifold_2d,plot_manifold_featurespace\n",
    "from montlake.plotting.flasso import plot_reg_path_ax_lambdasearch_customcolors_norm, plot_watch_custom\n",
    "from megaman.embedding import SpectralEmbedding\n",
    "from montlake.statistics.supportrecovery import get_min_min, get_mu_full_ind, get_kappa_s,get_gamma_max\n",
    "from montlake.plotting.main import plot_experiment\n",
    "\n",
    "import pandas as pd\n",
    "import dill as pickle\n",
    "import os\n",
    "import sys\n",
    "import numpy as np\n",
    "import itertools\n",
    "from itertools import permutations,combinations\n",
    "from sklearn.decomposition import TruncatedSVD\n",
    "import pathos\n",
    "from pathos.multiprocessing import ProcessingPool as Pool"
   ]
  },
  {
   "cell_type": "code",
   "execution_count": 2,
   "id": "0ab20a88",
   "metadata": {},
   "outputs": [],
   "source": [
    "# export\n",
    "import numpy as np\n",
    "import random\n",
    "import argparse\n",
    "import json\n",
    "import sys\n",
    "import scipy\n",
    "from montlake.vendor.tfcompat.hparam import HParams\n",
    "import os\n",
    "\n",
    "def parse_args(args):\n",
    "    parser= argparse.ArgumentParser()\n",
    "    parser.add_argument(\"--config\", help=\"Path to JSON config (can override with cmd line args)\")\n",
    "    #parser.add_argument(\"--raw_data\", help=\"Path to raw data\")\n",
    "    #parser.add_argument(\"--outdir\", help=\"Path to save outputs\")\n",
    "    args = parser.parse_args(args)\n",
    "    return args\n"
   ]
  },
  {
   "cell_type": "code",
   "execution_count": 3,
   "id": "466e08e9",
   "metadata": {},
   "outputs": [
    {
     "name": "stderr",
     "output_type": "stream",
     "text": [
      "usage: ipykernel_launcher.py [-h] [--config CONFIG]\n",
      "ipykernel_launcher.py: error: unrecognized arguments: -f /Users/samsonkoelle/Library/Jupyter/runtime/kernel-9114b27d-f537-4ff5-944f-954371b1f792.json\n"
     ]
    },
    {
     "ename": "SystemExit",
     "evalue": "2",
     "output_type": "error",
     "traceback": [
      "An exception has occurred, use %tb to see the full traceback.\n",
      "\u001b[0;31mSystemExit\u001b[0m\u001b[0;31m:\u001b[0m 2\n"
     ]
    },
    {
     "name": "stderr",
     "output_type": "stream",
     "text": [
      "/Users/samsonkoelle/miniconda3/envs/manifold_env_april/lib/python3.5/site-packages/IPython/core/interactiveshell.py:2969: UserWarning: To exit: use 'exit', 'quit', or Ctrl-D.\n",
      "  warn(\"To exit: use 'exit', 'quit', or Ctrl-D.\", stacklevel=1)\n"
     ]
    }
   ],
   "source": [
    "# export\n",
    "\n",
    "try:\n",
    "    from nbdev.imports import IN_NOTEBOOK\n",
    "except:\n",
    "    IN_NOTEBOOK = False\n",
    "    \n",
    "if __name__ == \"__main__\" and not IN_NOTEBOOK:\n",
    "    \n",
    "    np.random.seed(1234)\n",
    "    random.seed(1234)\n",
    "    args = parse_args(sys.argv[1:])\n",
    "    config = {}\n",
    "    if args.config:\n",
    "        with open(args.config) as f:\n",
    "            config.update(json.load(f))\n",
    "\n",
    "    config.update(vars(args))\n",
    "    hparams = HParams(**config)\n",
    "    if not os.path.exists(hparams.outdir):\n",
    "        os.makedirs(hparams.outdir)\n",
    "        \n",
    "    positions = np.load(hparams.position_file)\n",
    "    for key in hparams.ground_truth.keys():\n",
    "        if hparams.ground_truth[key] is None:\n",
    "            hparams.ground_truth[key] = np.asarray([])\n",
    "        hparams.ground_truth[key] = np.asarray(hparams.ground_truth[key], dtype = int)\n",
    "        \n",
    "    print('plotting',hparams.ground_truth)\n",
    "\n",
    "    plot_experiment(result_file = hparams.result_file, \n",
    "                    positions = positions, \n",
    "                    d = hparams.d,\n",
    "                    name = hparams.name, \n",
    "                    ncord = hparams.ncord,\n",
    "                    embedding = hparams.embedding,\n",
    "                    ground_truth = hparams.ground_truth, \n",
    "                    colors_gt = hparams.ground_truth_colors,\n",
    "                    outdir = hparams.outdir,\n",
    "                    color_counts_all = hparams.color_counts_all,\n",
    "                   colors_id_all = hparams.colors_id_all,\n",
    "                    names_gt_plot = hparams.names_gt_plot,\n",
    "                    plot_gt = hparams.plot_gt,\n",
    "                   n_components = hparams.n_components,\n",
    "                   ptsize = hparams.ptsize,\n",
    "                   alpha = hparams.alpha,\n",
    "                    name_counts_all = hparams.name_counts_all,\n",
    "                   gt_reg_color = hparams.gt_reg_color,\n",
    "                   sel_reg_color = hparams.sel_reg_color,\n",
    "                   plot_watch_full = hparams.plot_watch_full,\n",
    "                   plot_watch_results = hparams.plot_watch_results,\n",
    "                    cosine_color = hparams.cosine_color,\n",
    "                    selected_cosines = hparams.selected_cosines,\n",
    "                    cosine_cluster = hparams.cosine_cluster,\n",
    "                    plot_set = hparams.plot_set,\n",
    "                    wheel_font = hparams.wheel_font,\n",
    "                   )\n",
    "        "
   ]
  },
  {
   "cell_type": "code",
   "execution_count": 5,
   "id": "6a7ffc9e",
   "metadata": {},
   "outputs": [
    {
     "name": "stderr",
     "output_type": "stream",
     "text": [
      "usage: ipykernel_launcher.py [-h] [--config CONFIG]\n",
      "ipykernel_launcher.py: error: unrecognized arguments: -f /Users/samsonkoelle/Library/Jupyter/runtime/kernel-92740fcd-3eb2-46d5-8cae-60161fdfbf40.json\n"
     ]
    },
    {
     "ename": "SystemExit",
     "evalue": "2",
     "output_type": "error",
     "traceback": [
      "An exception has occurred, use %tb to see the full traceback.\n",
      "\u001b[0;31mSystemExit\u001b[0m\u001b[0;31m:\u001b[0m 2\n"
     ]
    },
    {
     "name": "stderr",
     "output_type": "stream",
     "text": [
      "/Users/samsonkoelle/miniconda3/envs/manifold_env_april/lib/python3.5/site-packages/IPython/core/interactiveshell.py:2969: UserWarning: To exit: use 'exit', 'quit', or Ctrl-D.\n",
      "  warn(\"To exit: use 'exit', 'quit', or Ctrl-D.\", stacklevel=1)\n"
     ]
    }
   ],
   "source": []
  },
  {
   "cell_type": "code",
   "execution_count": 6,
   "id": "c2452d82",
   "metadata": {},
   "outputs": [
    {
     "name": "stdout",
     "output_type": "stream",
     "text": [
      "plotting {'atoms2': array([], dtype=int64), 'atoms4': array([[6, 1, 0, 2],\n",
      "       [1, 0, 2, 8]]), 'atoms3': array([], dtype=int64)}\n"
     ]
    }
   ],
   "source": [
    "# export \n",
    "import matplotlib.pyplot as plt\n",
    "from montlake.plotting.manifolds import plot_manifold_2d, plot_manifold_3d,plot_manifold_featurespace,plot_manifold_3d_set\n",
    "from montlake.plotting.plotting import plot_cosines, get_cmap,get_names, plot_cosines_cluster\n",
    "from montlake.plotting.flasso import plot_reg_path_ax_lambdasearch_customcolors_norm,plot_watch_custom, plot_watch,plot_cos_boxes, plot_reg_path_ax_lambdasearch_customcolors\n",
    "import dill as pickle\n",
    "import pathos\n",
    "from montlake.utils.utils import data_stream_custom_range, cosine_similarity\n",
    "from pathos.multiprocessing import ProcessingPool as Pool\n",
    "from montlake.atomgeom.features import get_features\n",
    "from montlake.utils.utils import get_atoms4_full, get_index_matching, get_cosines\n",
    "from montlake.utils.replicates import get_detected_values2d\n",
    "from montlake.statistics.supportrecovery import get_min_min, get_mu_full_ind, get_kappa_s, get_gamma_max\n",
    "import numpy as np\n",
    "import itertools\n",
    "import seaborn as sns\n",
    "\n",
    "from matplotlib.patches import Rectangle\n",
    "\n",
    "np.random.seed(1234)\n",
    "random.seed(1234)\n",
    "\n",
    "config = {}\n",
    "with open(\"/Users/samsonkoelle/tunatostada/experiments/configs_plotting/jmlr/reth_diagram_mf_jmlr.json\") as f:\n",
    "    config.update(json.load(f))\n",
    "\n",
    "#config.update(vars(args))\n",
    "hparams = HParams(**config)\n",
    "if not os.path.exists(hparams.outdir):\n",
    "    os.makedirs(hparams.outdir)\n",
    "\n",
    "positions = np.load(hparams.position_file)\n",
    "for key in hparams.ground_truth.keys():\n",
    "    if hparams.ground_truth[key] is None:\n",
    "        hparams.ground_truth[key] = np.asarray([])\n",
    "    hparams.ground_truth[key] = np.asarray(hparams.ground_truth[key], dtype = int)\n",
    "\n",
    "print('plotting',hparams.ground_truth)\n",
    "\n",
    "#     plot_experiment(result_file = hparams.result_file, \n",
    "#                     positions = positions, \n",
    "#                     d = hparams.d,\n",
    "#                     name = hparams.name, \n",
    "#                     ncord = hparams.ncord,\n",
    "#                     embedding = hparams.embedding,\n",
    "#                     ground_truth = hparams.ground_truth, \n",
    "#                     colors_gt = hparams.ground_truth_colors,\n",
    "#                     outdir = hparams.outdir,\n",
    "#                     color_counts_all = hparams.color_counts_all,\n",
    "#                    colors_id_all = hparams.colors_id_all,\n",
    "#                     names_gt_plot = hparams.names_gt_plot,\n",
    "#                     plot_gt = hparams.plot_gt,\n",
    "#                    n_components = hparams.n_components,\n",
    "#                    ptsize = hparams.ptsize,\n",
    "#                    alpha = hparams.alpha,\n",
    "#                     name_counts_all = hparams.name_counts_all,\n",
    "#                    gt_reg_color = hparams.gt_reg_color,\n",
    "#                    sel_reg_color = hparams.sel_reg_color,\n",
    "#                    plot_watch_full = hparams.plot_watch_full,\n",
    "#                    plot_watch_results = hparams.plot_watch_results,\n",
    "#                     cosine_color = hparams.cosine_color,\n",
    "#                     selected_cosines = hparams.selected_cosines,\n",
    "#                     cosine_cluster = hparams.cosine_cluster\n",
    "#                    )"
   ]
  },
  {
   "cell_type": "code",
   "execution_count": 7,
   "id": "e1a2cf91",
   "metadata": {},
   "outputs": [],
   "source": [
    "result_file = hparams.result_file\n",
    "positions = positions\n",
    "d = hparams.d\n",
    "name = hparams.name\n",
    "ncord = hparams.ncord\n",
    "embedding = hparams.embedding\n",
    "ground_truth = hparams.ground_truth\n",
    "colors_gt = hparams.ground_truth_colors\n",
    "outdir = hparams.outdir\n",
    "color_counts_all = hparams.color_counts_all\n",
    "colors_id_all = hparams.colors_id_all\n",
    "names_gt_plot = hparams.names_gt_plot\n",
    "plot_gt = hparams.plot_gt\n",
    "n_components = hparams.n_components\n",
    "ptsize = hparams.ptsize\n",
    "alpha = hparams.alpha\n",
    "name_counts_all = hparams.name_counts_all\n",
    "gt_reg_color = hparams.gt_reg_color\n",
    "sel_reg_color = hparams.sel_reg_color\n",
    "plot_watch_full = hparams.plot_watch_full\n",
    "plot_watch_results = hparams.plot_watch_results\n",
    "cosine_color = hparams.cosine_color\n",
    "selected_cosines = hparams.selected_cosines\n",
    "cosine_cluster = hparams.cosine_cluster"
   ]
  },
  {
   "cell_type": "code",
   "execution_count": 8,
   "id": "69dbfe4e",
   "metadata": {},
   "outputs": [
    {
     "name": "stdout",
     "output_type": "stream",
     "text": [
      "loading data\n",
      "compute ground truth values for comparison\n",
      "getting ground truth names\n",
      "plotting ground truth function values [1, 2]\n"
     ]
    }
   ],
   "source": [
    "\n",
    "print('loading data')\n",
    "with open(result_file,'rb') as inp:\n",
    "    results = pickle.load(inp, pickle.HIGHEST_PROTOCOL)\n",
    "\n",
    "atoms4 = results['dictionary']['atoms4']\n",
    "dg_M = results['replicates_small'][0].dg_M\n",
    "n = dg_M.shape[0]\n",
    "m = n_components\n",
    "p = results['replicates_small'][0].dg_M.shape[2]\n",
    "nreps = results['supports_lasso'][1].shape[0]\n",
    "embed = results['embed']\n",
    "\n",
    "if ground_truth is not None:\n",
    "    print('compute ground truth values for comparison' )\n",
    "    cores = pathos.multiprocessing.cpu_count() - 1\n",
    "    pool = Pool(cores) \n",
    "    n = positions.shape[0]\n",
    "    gt_results = pool.map(lambda i: get_features(positions[i],\n",
    "                               atoms2 = ground_truth['atoms2'],\n",
    "                               atoms3 = ground_truth['atoms3'],\n",
    "                               atoms4 = ground_truth['atoms4']),\n",
    "        data_stream_custom_range(list(range(n))))\n",
    "    values_gt = np.vstack([np.hstack(gt_results[i]) for i in range(n)])\n",
    "\n",
    "print('getting ground truth names')\n",
    "#if names_gt is None and ground_truth is not None:\n",
    "if ground_truth is not None:\n",
    "    natoms = positions.shape[1]\n",
    "    #atoms4 = np.asarray(list(itertools.combinations(range(natoms), 4))) \n",
    "    superset = results['dictionary']['atoms4']#get_atoms4_full(atoms4) #needs adjustment for diagram dictionaries\n",
    "    if d == 2:\n",
    "        j1 = get_index_matching(ground_truth['atoms4'][0], superset) #needs adjustment for non torsion ground truths\n",
    "        j2 = get_index_matching(ground_truth['atoms4'][1], superset)\n",
    "        gt_ind = [j1,j2]\n",
    "        names_gt = get_names(np.asarray(gt_ind))\n",
    "    if d ==1:\n",
    "        j1 = get_index_matching(ground_truth['atoms4'][0], superset)\n",
    "        gt_ind = [j1]\n",
    "        names_gt = get_names(np.asarray(gt_ind))\n",
    "\n",
    "if plot_gt:\n",
    "    print('plotting ground truth function values', names_gt_plot)\n",
    "    for k in range(len(names_gt_plot)):\n",
    "        title = r'$g_{{{}}}$'.format(names_gt_plot[k])# + ' ' +  str(atoms4[gt_ind[k]] + 1)\n",
    "        if n_components == 3:\n",
    "            plot_manifold_3d(embed, ptsize, alpha, values_gt[:,k], title,title_color = colors_gt[k])#, title_color = colors[s])  \n",
    "        if n_components == 2:\n",
    "            plot_manifold_2d(embed, ptsize, alpha, values_gt[:,k], title,title_color = colors_gt[k])\n",
    "        plt.savefig(outdir + '/gt_' + str(k))\n",
    "        plt.close()\n"
   ]
  },
  {
   "cell_type": "code",
   "execution_count": 9,
   "id": "a881c16e",
   "metadata": {},
   "outputs": [
    {
     "name": "stdout",
     "output_type": "stream",
     "text": [
      "cca [9, 3]\n",
      "getting all colors\n",
      "getting colors and names of selected functions\n",
      "plotting top coordinates in feature space\n",
      "0\n",
      "1\n",
      "2\n",
      "3\n",
      "4\n",
      "5\n",
      "plotting sample regularization path\n"
     ]
    }
   ],
   "source": [
    "\n",
    "if ground_truth is None:\n",
    "    gt_ind = []\n",
    "    colors_gt = np.empty((0,4), int)\n",
    "\n",
    "print('cca', color_counts_all)\n",
    "if color_counts_all is not None:\n",
    "    print('getting all colors')\n",
    "    colors_all = np.empty((0,4), int)\n",
    "    for c in range(len(color_counts_all)):\n",
    "        colors_all = np.vstack([colors_all, np.repeat([colors_id_all[c]], color_counts_all[c], axis = 0)])\n",
    "\n",
    "print('getting colors and names of selected functions')\n",
    "selected_lasso = results['selected_lasso']\n",
    "colors_lasso = get_cmap(selected_lasso)\n",
    "names_lasso = get_names(selected_lasso)\n",
    "selected_ts = results['selected_ts']\n",
    "colors_ts = get_cmap(selected_ts)\n",
    "names_ts = get_names(selected_ts)\n",
    "colors_lasso_full = np.zeros((p,4))\n",
    "colors_lasso_full[selected_lasso] = colors_lasso\n",
    "colors_ts_full = np.zeros((p,4))\n",
    "colors_ts_full[selected_ts] = colors_ts\n",
    "\n",
    "print('plotting top coordinates in feature space')\n",
    "data = results['data']\n",
    "title = name + ' top PCA'\n",
    "plot_manifold_featurespace(data,title,ncord)    \n",
    "plt.savefig(outdir + '/features')\n",
    "plt.close()\n",
    "\n",
    "print('plotting sample regularization path')\n",
    "if gt_reg_color:\n",
    "    fig, axes_all = plt.subplots(figsize=(15, 10))\n",
    "    #colors = np.zeros((p,4))\n",
    "    #colors[subset_l0_plusgt] = colors_l0_plusgt\n",
    "    plot_reg_path_ax_lambdasearch_customcolors_norm(axes_all, results['replicates_small'][0].cs_reorder * np.sqrt(m*n), results['replicates_small'][0].xaxis_reorder / results['replicates_small'][0].xaxis_reorder.max() , fig,colors_all)#axes_all[0].imshow(asdf)\n",
    "    axes_all.set_title('Regularization path (single replicate)', fontsize = 40)\n",
    "    axes_all.set_ylabel(r'$||\\beta_j||$', fontsize = 40)\n",
    "    #axes_all.set_xticklabels([])\n",
    "    plt.tight_layout()\n",
    "    plt.savefig(outdir + '/reg_path_gt')\n",
    "    plt.close()\n"
   ]
  },
  {
   "cell_type": "code",
   "execution_count": 10,
   "id": "7c713695",
   "metadata": {},
   "outputs": [
    {
     "name": "stdout",
     "output_type": "stream",
     "text": [
      "plotting selected function values (2, 4) (10000, 2)\n"
     ]
    },
    {
     "ename": "IndexError",
     "evalue": "too many indices for array",
     "output_type": "error",
     "traceback": [
      "\u001b[0;31m---------------------------------------------------------------------------\u001b[0m",
      "\u001b[0;31mIndexError\u001b[0m                                Traceback (most recent call last)",
      "\u001b[0;32m<ipython-input-10-382f3a5d7449>\u001b[0m in \u001b[0;36m<module>\u001b[0;34m()\u001b[0m\n\u001b[1;32m      4\u001b[0m \u001b[0;32mif\u001b[0m \u001b[0mn_components\u001b[0m \u001b[0;34m==\u001b[0m \u001b[0;36m3\u001b[0m\u001b[0;34m:\u001b[0m\u001b[0;34m\u001b[0m\u001b[0m\n\u001b[1;32m      5\u001b[0m     \u001b[0;31m#for s in range(len(results['selected_lasso'])):\u001b[0m\u001b[0;34m\u001b[0m\u001b[0;34m\u001b[0m\u001b[0m\n\u001b[0;32m----> 6\u001b[0;31m     \u001b[0mplot_manifold_3d_set\u001b[0m\u001b[0;34m(\u001b[0m\u001b[0mdata\u001b[0m \u001b[0;34m=\u001b[0m \u001b[0membed\u001b[0m\u001b[0;34m,\u001b[0m \u001b[0ms\u001b[0m \u001b[0;34m=\u001b[0m \u001b[0;36m10\u001b[0m\u001b[0;34m,\u001b[0m \u001b[0malpha\u001b[0m\u001b[0;34m=\u001b[0m\u001b[0;36m.2\u001b[0m\u001b[0;34m,\u001b[0m \u001b[0mgb\u001b[0m \u001b[0;34m=\u001b[0m \u001b[0msupports_lasso_values\u001b[0m\u001b[0;34m,\u001b[0m \u001b[0mtitles\u001b[0m\u001b[0;34m=\u001b[0m \u001b[0mresults\u001b[0m\u001b[0;34m[\u001b[0m\u001b[0;34m'dictionary'\u001b[0m\u001b[0;34m]\u001b[0m\u001b[0;34m[\u001b[0m\u001b[0;34m'atoms4'\u001b[0m\u001b[0;34m]\u001b[0m\u001b[0;34m,\u001b[0m\u001b[0msub\u001b[0m\u001b[0;34m=\u001b[0m \u001b[0mresults\u001b[0m\u001b[0;34m[\u001b[0m\u001b[0;34m'selected_lasso'\u001b[0m\u001b[0;34m]\u001b[0m\u001b[0;34m,\u001b[0m \u001b[0mtitle_colors\u001b[0m \u001b[0;34m=\u001b[0m \u001b[0mcolors_lasso\u001b[0m\u001b[0;34m)\u001b[0m\u001b[0;34m\u001b[0m\u001b[0m\n\u001b[0m\u001b[1;32m      7\u001b[0m     \u001b[0mplt\u001b[0m\u001b[0;34m.\u001b[0m\u001b[0msavefig\u001b[0m\u001b[0;34m(\u001b[0m\u001b[0moutdir\u001b[0m \u001b[0;34m+\u001b[0m \u001b[0;34m'/selected_function_lasso_all'\u001b[0m\u001b[0;34m)\u001b[0m\u001b[0;34m\u001b[0m\u001b[0m\n\u001b[1;32m      8\u001b[0m     \u001b[0mplt\u001b[0m\u001b[0;34m.\u001b[0m\u001b[0mclose\u001b[0m\u001b[0;34m(\u001b[0m\u001b[0;34m)\u001b[0m\u001b[0;34m\u001b[0m\u001b[0m\n",
      "\u001b[0;32m~/tunatostada/montlake/plotting/manifolds.py\u001b[0m in \u001b[0;36mplot_manifold_3d_set\u001b[0;34m(data, s, alpha, gb, titles, sub, title_colors)\u001b[0m\n\u001b[1;32m    137\u001b[0m \u001b[0;34m\u001b[0m\u001b[0m\n\u001b[1;32m    138\u001b[0m     \u001b[0;32mfor\u001b[0m \u001b[0mr\u001b[0m \u001b[0;32min\u001b[0m \u001b[0mrange\u001b[0m\u001b[0;34m(\u001b[0m\u001b[0;34m(\u001b[0m\u001b[0mmath\u001b[0m\u001b[0;34m.\u001b[0m\u001b[0mfloor\u001b[0m\u001b[0;34m(\u001b[0m\u001b[0mnb\u001b[0m \u001b[0;34m/\u001b[0m \u001b[0;36m4\u001b[0m\u001b[0;34m)\u001b[0m\u001b[0;34m+\u001b[0m\u001b[0;36m1\u001b[0m \u001b[0;34m)\u001b[0m\u001b[0;34m*\u001b[0m \u001b[0;36m4\u001b[0m\u001b[0;34m)\u001b[0m\u001b[0;34m:\u001b[0m\u001b[0;34m\u001b[0m\u001b[0m\n\u001b[0;32m--> 139\u001b[0;31m         \u001b[0maxs\u001b[0m\u001b[0;34m[\u001b[0m\u001b[0mmath\u001b[0m\u001b[0;34m.\u001b[0m\u001b[0mfloor\u001b[0m\u001b[0;34m(\u001b[0m\u001b[0mr\u001b[0m \u001b[0;34m/\u001b[0m \u001b[0;36m4\u001b[0m\u001b[0;34m)\u001b[0m\u001b[0;34m,\u001b[0m \u001b[0mr\u001b[0m \u001b[0;34m%\u001b[0m\u001b[0;36m4\u001b[0m \u001b[0;34m]\u001b[0m\u001b[0;34m.\u001b[0m\u001b[0mset_axis_off\u001b[0m\u001b[0;34m(\u001b[0m\u001b[0;34m)\u001b[0m\u001b[0;34m\u001b[0m\u001b[0m\n\u001b[0m\u001b[1;32m    140\u001b[0m \u001b[0;34m\u001b[0m\u001b[0m\n\u001b[1;32m    141\u001b[0m     \u001b[0mselected_points\u001b[0m \u001b[0;34m=\u001b[0m \u001b[0mlist\u001b[0m\u001b[0;34m(\u001b[0m\u001b[0mrange\u001b[0m\u001b[0;34m(\u001b[0m\u001b[0mdata\u001b[0m\u001b[0;34m.\u001b[0m\u001b[0mshape\u001b[0m\u001b[0;34m[\u001b[0m\u001b[0;36m0\u001b[0m\u001b[0;34m]\u001b[0m\u001b[0;34m)\u001b[0m\u001b[0;34m)\u001b[0m\u001b[0;34m\u001b[0m\u001b[0m\n",
      "\u001b[0;31mIndexError\u001b[0m: too many indices for array"
     ]
    },
    {
     "data": {
      "image/png": "[encoded data removed]",
      "text/plain": [
       "<Figure size 2880x720 with 4 Axes>"
      ]
     },
     "metadata": {
      "needs_background": "light"
     },
     "output_type": "display_data"
    }
   ],
   "source": [
    "supports_lasso_values = np.vstack([np.hstack(results['supports_lasso_values'][i]) for i in range(n)])\n",
    "supports_ts_values = np.vstack([np.hstack(results['supports_ts_values'][i]) for i in range(n)])\n",
    "print('plotting selected function values', colors_ts.shape, supports_ts_values.shape)\n",
    "if n_components == 3:\n",
    "    #for s in range(len(results['selected_lasso'])):\n",
    "    plot_manifold_3d_set(data = embed, s = 10, alpha=.2, gb = supports_lasso_values, titles= results['dictionary']['atoms4'],sub= results['selected_lasso'], title_colors = colors_lasso)\n",
    "    plt.savefig(outdir + '/selected_function_lasso_all')\n",
    "    plt.close()"
   ]
  },
  {
   "cell_type": "code",
   "execution_count": null,
   "id": "d33aee62",
   "metadata": {},
   "outputs": [],
   "source": [
    "\n",
    "if name_counts_all is None:\n",
    "    names_all = list(range(p))\n",
    "else:\n",
    "    names_all = np.asarray(list([]), dtype =str)\n",
    "    for i in range(len(name_counts_all)):\n",
    "        for j in range(name_counts_all[i]):\n",
    "            names_all = np.hstack([names_all,(str(i+1) + ',' + str(j+1))])     \n"
   ]
  },
  {
   "cell_type": "code",
   "execution_count": null,
   "id": "51fc1779",
   "metadata": {},
   "outputs": [],
   "source": [
    "        p = results['supports_lasso'][0].shape[0]\n",
    "        #print(results['supports_lasso'][0].shape, p,colors_all.shape)\n",
    "        fig, axes_all = plt.subplots(figsize=(15, 10))\n",
    "        plot_watch_custom(results['supports_lasso'][0], p, axes_all,colors_all, nreps, names_all)\n",
    "        plt.savefig(outdir + '/watch_full')\n",
    "        plt.close()\n",
    "        \n",
    "        fig, axes_all = plt.subplots(5,4,figsize = (45,30))\n",
    "        plot_reg_path_ax_lambdasearch_customcolors(axes_all[0], results['replicates_small'][0].cs_reorder, results['replicates_small'][0].xaxis_reorder * np.sqrt(m * n), fig,colors_all,names_all)\n",
    "        plot_reg_path_ax_lambdasearch_customcolors(axes_all[1], results['replicates_small'][1].cs_reorder, results['replicates_small'][1].xaxis_reorder * np.sqrt(m * n), fig,colors_all,names_all)\n",
    "        plot_reg_path_ax_lambdasearch_customcolors(axes_all[2], results['replicates_small'][2].cs_reorder, results['replicates_small'][2].xaxis_reorder * np.sqrt(m * n), fig,colors_all,names_all)\n",
    "        plot_reg_path_ax_lambdasearch_customcolors(axes_all[3], results['replicates_small'][3].cs_reorder, results['replicates_small'][3].xaxis_reorder * np.sqrt(m * n), fig,colors_all,names_all)\n",
    "        plot_reg_path_ax_lambdasearch_customcolors(axes_all[4], results['replicates_small'][4].cs_reorder, results['replicates_small'][4].xaxis_reorder * np.sqrt(m * n), fig,colors_all,names_all)\n",
    "        axes_all[0,0].set_ylabel('Replicate 1 \\n' + r'$\\|\\beta_j\\|$')\n",
    "        axes_all[1,0].set_ylabel('Replicate 2 \\n' + r'$\\|\\beta_j\\|$')\n",
    "        axes_all[2,0].set_ylabel('Replicate 3 \\n' + r'$\\|\\beta_j\\|$')\n",
    "        axes_all[3,0].set_ylabel('Replicate 4 \\n' + r'$\\|\\beta_j\\|$')\n",
    "        axes_all[4,0].set_ylabel('Replicate 5 \\n' + r'$\\|\\beta_j\\|$')\n",
    "        plt.savefig(outdir + '/first5reps_cords')"
   ]
  },
  {
   "cell_type": "code",
   "execution_count": 11,
   "id": "e87891a1",
   "metadata": {},
   "outputs": [
    {
     "data": {
      "text/plain": [
       "1"
      ]
     },
     "execution_count": 11,
     "metadata": {},
     "output_type": "execute_result"
    }
   ],
   "source": [
    "len(results['replicates_small'])\n"
   ]
  },
  {
   "cell_type": "code",
   "execution_count": 14,
   "id": "e23f0ba5",
   "metadata": {},
   "outputs": [
    {
     "data": {
      "text/plain": [
       "2"
      ]
     },
     "execution_count": 14,
     "metadata": {},
     "output_type": "execute_result"
    }
   ],
   "source": [
    "len(results['supports_lasso'])"
   ]
  },
  {
   "cell_type": "code",
   "execution_count": 16,
   "id": "bf499b74",
   "metadata": {},
   "outputs": [
    {
     "data": {
      "text/plain": [
       "dict_keys(['dictionary', 'geom', 'data', 'supports_ts', 'supports_ts_values', 'selected_lasso', 'embed', 'selected_ts', 'supports_lasso_values', 'replicates_small', 'supports_lasso'])"
      ]
     },
     "execution_count": 16,
     "metadata": {},
     "output_type": "execute_result"
    }
   ],
   "source": [
    "results.keys()"
   ]
  },
  {
   "cell_type": "code",
   "execution_count": null,
   "id": "6eff477f",
   "metadata": {},
   "outputs": [],
   "source": []
  }
 ],
 "metadata": {
  "kernelspec": {
   "display_name": "manifold_env_april",
   "language": "python",
   "name": "manifold_env_april"
  },
  "language_info": {
   "codemirror_mode": {
    "name": "ipython",
    "version": 3
   },
   "file_extension": ".py",
   "mimetype": "text/x-python",
   "name": "python",
   "nbconvert_exporter": "python",
   "pygments_lexer": "ipython3",
   "version": "3.5.6"
  }
 },
 "nbformat": 4,
 "nbformat_minor": 5
}
