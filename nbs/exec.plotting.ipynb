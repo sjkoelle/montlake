{
 "cells": [
  {
   "cell_type": "code",
   "execution_count": 1,
   "id": "42859084",
   "metadata": {},
   "outputs": [],
   "source": [
    "# default_exp exec.plotting"
   ]
  },
  {
   "cell_type": "code",
   "execution_count": null,
   "id": "21c6c0a8",
   "metadata": {},
   "outputs": [],
   "source": [
    "# export"
   ]
  },
  {
   "cell_type": "code",
   "execution_count": null,
   "id": "662c7d1c",
   "metadata": {},
   "outputs": [],
   "source": [
    "# export \n",
    "2+2"
   ]
  },
  {
   "cell_type": "code",
   "execution_count": 6,
   "id": "0b614b22",
   "metadata": {},
   "outputs": [],
   "source": [
    "# export\n",
    "from montlake.atomgeom.features import get_features,get_D_feats_feats\n",
    "from montlake.atomgeom.utils import get_atoms_4\n",
    "from montlake.simulations.rigidethanol import get_rigid_ethanol_data\n",
    "from montlake.utils.utils import get_234_indices, get_atoms3_full, get_atoms4_full, data_stream_custom_range, get_cosines\n",
    "from montlake.geometry.geometry import get_geom, get_wlpca_tangent_sel, get_rm_tangent_sel\n",
    "from montlake.gradients.estimate import get_grads_pullback\n",
    "from montlake.statistics.normalization import normalize_L212\n",
    "from montlake.optimization.gradientgrouplasso import get_sr_lambda_parallel\n",
    "from montlake.optimization.utils import get_selected_function_ids,get_selected_functions_lm2\n",
    "from montlake.utils.replicates import Replicate, get_supports_brute\n",
    "from montlake.plotting.manifolds import plot_manifold_2d,plot_manifold_featurespace\n",
    "from montlake.plotting.flasso import plot_reg_path_ax_lambdasearch_customcolors_norm, plot_watch_custom\n",
    "from megaman.embedding import SpectralEmbedding\n",
    "from montlake.statistics.supportrecovery import get_min_min, get_mu_full_ind, get_kappa_s,get_gamma_max\n",
    "from montlake.plotting.main import plot_experiment\n",
    "\n",
    "import dill as pickle\n",
    "import os\n",
    "import sys\n",
    "import numpy as np\n",
    "import itertools\n",
    "from itertools import permutations,combinations\n",
    "from sklearn.decomposition import TruncatedSVD\n",
    "import pathos\n",
    "from pathos.multiprocessing import ProcessingPool as Pool"
   ]
  },
  {
   "cell_type": "code",
   "execution_count": 3,
   "id": "0ab20a88",
   "metadata": {},
   "outputs": [],
   "source": [
    "# export\n",
    "import numpy as np\n",
    "import random\n",
    "import argparse\n",
    "import json\n",
    "import sys\n",
    "import scipy\n",
    "from montlake.vendor.tfcompat.hparam import HParams\n",
    "import os\n",
    "\n",
    "def parse_args(args):\n",
    "    parser= argparse.ArgumentParser()\n",
    "    parser.add_argument(\"--config\", help=\"Path to JSON config (can override with cmd line args)\")\n",
    "    args = parser.parse_args(args)\n",
    "    return args\n"
   ]
  },
  {
   "cell_type": "code",
   "execution_count": 9,
   "id": "466e08e9",
   "metadata": {},
   "outputs": [
    {
     "name": "stderr",
     "output_type": "stream",
     "text": [
      "usage: ipykernel_launcher.py [-h] [--config CONFIG]\n",
      "ipykernel_launcher.py: error: unrecognized arguments: -f /Users/samsonkoelle/Library/Jupyter/runtime/kernel-5513e6ab-6693-4fd9-9e96-36b92050b482.json\n"
     ]
    },
    {
     "ename": "SystemExit",
     "evalue": "2",
     "output_type": "error",
     "traceback": [
      "An exception has occurred, use %tb to see the full traceback.\n",
      "\u001b[0;31mSystemExit\u001b[0m\u001b[0;31m:\u001b[0m 2\n"
     ]
    },
    {
     "name": "stderr",
     "output_type": "stream",
     "text": [
      "/Users/samsonkoelle/miniconda3/envs/manifold_env_april/lib/python3.5/site-packages/IPython/core/interactiveshell.py:2969: UserWarning: To exit: use 'exit', 'quit', or Ctrl-D.\n",
      "  warn(\"To exit: use 'exit', 'quit', or Ctrl-D.\", stacklevel=1)\n"
     ]
    }
   ],
   "source": [
    "# export\n",
    "\n",
    "try:\n",
    "    from nbdev.imports import IN_NOTEBOOK\n",
    "except:\n",
    "    IN_NOTEBOOK = False\n",
    "    \n",
    "if __name__ == \"__main__\" and not IN_NOTEBOOK:\n",
    "    \n",
    "    np.random.seed(1234)\n",
    "    random.seed(1234)\n",
    "    args = parse_args(sys.argv[1:])\n",
    "    config = {}\n",
    "    if args.config:\n",
    "        with open(args.config) as f:\n",
    "            config.update(json.load(f))\n",
    "\n",
    "    config.update(vars(args))\n",
    "    hparams = HParams(**config)\n",
    "    if not os.path.exists(hparams.outdir):\n",
    "        os.makedirs(hparams.outdir)\n",
    "        \n",
    "    positions = np.load(hparams.position_file)\n",
    "    for key in hparams.ground_truth.keys():\n",
    "        if hparams.ground_truth[key] is None:\n",
    "            hparams.ground_truth[key] = np.asarray([])\n",
    "        hparams.ground_truth[key] = np.asarray(hparams.ground_truth[key], dtype = int)\n",
    "        \n",
    "    print('plotting',hparams.ground_truth)\n",
    "\n",
    "    plot_experiment(result_file = hparams.result_file, \n",
    "        positions = positions, \n",
    "        d = hparams.d,\n",
    "        name = hparams.name, \n",
    "        ncord = hparams.ncord,\n",
    "        embedding = hparams.embedding,\n",
    "        ground_truth = hparams.ground_truth, \n",
    "        colors_gt = hparams.ground_truth_colors,\n",
    "        outdir = hparams.outdir,\n",
    "        color_counts_all = hparams.color_counts_all,\n",
    "        colors_id_all = hparams.colors_id_all,\n",
    "        names_gt_plot = hparams.names_gt_plot,\n",
    "        plot_gt = hparams.plot_gt,\n",
    "        n_components = hparams.n_components,\n",
    "        ptsize = hparams.ptsize,\n",
    "        alpha = hparams.alpha,\n",
    "        name_counts_all = hparams.name_counts_all,\n",
    "        gt_reg_color = hparams.gt_reg_color,\n",
    "        sel_reg_color = hparams.sel_reg_color,\n",
    "        plot_watch_full = hparams.plot_watch_full,\n",
    "        plot_watch_results = hparams.plot_watch_results,\n",
    "        cosine_color = hparams.cosine_color,\n",
    "        selected_cosines = hparams.selected_cosines,\n",
    "        cosine_cluster = hparams.cosine_cluster,\n",
    "        plot_set = hparams.plot_set,\n",
    "        wheel_font = hparams.wheel_font,\n",
    "        )"
   ]
  }
 ],
 "metadata": {
  "kernelspec": {
   "display_name": "manifold_env_april",
   "language": "python",
   "name": "manifold_env_april"
  },
  "language_info": {
   "codemirror_mode": {
    "name": "ipython",
    "version": 3
   },
   "file_extension": ".py",
   "mimetype": "text/x-python",
   "name": "python",
   "nbconvert_exporter": "python",
   "pygments_lexer": "ipython3",
   "version": "3.5.6"
  }
 },
 "nbformat": 4,
 "nbformat_minor": 5
}
