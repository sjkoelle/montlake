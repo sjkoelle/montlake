{
 "cells": [
  {
   "cell_type": "code",
   "execution_count": null,
   "id": "42859084",
   "metadata": {},
   "outputs": [],
   "source": [
    "# default_exp exec.plotting"
   ]
  },
  {
   "cell_type": "code",
   "execution_count": null,
   "id": "0b614b22",
   "metadata": {},
   "outputs": [],
   "source": [
    "# export\n",
    "from montlake.atomgeom.features import get_features,get_D_feats_feats\n",
    "from montlake.atomgeom.utils import get_atoms_4\n",
    "from montlake.simulations.rigidethanol import get_rigid_ethanol_data\n",
    "from montlake.utils.utils import get_234_indices, get_atoms3_full, get_atoms4_full, data_stream_custom_range, get_cosines\n",
    "from montlake.geometry.geometry import get_geom, get_wlpca_tangent_sel, get_rm_tangent_sel\n",
    "from montlake.gradients.estimate import get_grads_pullback\n",
    "from montlake.statistics.normalization import normalize_L212\n",
    "from montlake.optimization.gradientgrouplasso import get_sr_lambda_parallel\n",
    "from montlake.optimization.utils import get_selected_function_ids,get_selected_functions_lm2\n",
    "from montlake.utils.replicates import Replicate, get_supports_brute\n",
    "from montlake.plotting.manifolds import plot_manifold_2d,plot_manifold_featurespace\n",
    "from montlake.plotting.flasso import plot_reg_path_ax_lambdasearch_customcolors_norm, plot_watch_custom\n",
    "from megaman.embedding import SpectralEmbedding\n",
    "from montlake.statistics.supportrecovery import get_min_min, get_mu_full_ind, get_kappa_s,get_gamma_max\n",
    "from montlake.plotting.main import plot_experiment\n",
    "\n",
    "import pandas as pd\n",
    "import dill as pickle\n",
    "import os\n",
    "import sys\n",
    "import numpy as np\n",
    "import itertools\n",
    "from itertools import permutations,combinations\n",
    "from sklearn.decomposition import TruncatedSVD\n",
    "import pathos\n",
    "from pathos.multiprocessing import ProcessingPool as Pool"
   ]
  },
  {
   "cell_type": "code",
   "execution_count": null,
   "id": "0ab20a88",
   "metadata": {},
   "outputs": [],
   "source": [
    "# export\n",
    "import numpy as np\n",
    "import random\n",
    "import argparse\n",
    "import json\n",
    "import sys\n",
    "import scipy\n",
    "from ..vendor.tfcompat.hparam import HParams\n",
    "import os\n",
    "\n",
    "def parse_args(args):\n",
    "    parser= argparse.ArgumentParser()\n",
    "    parser.add_argument(\"--config\", help=\"Path to JSON config (can override with cmd line args)\")\n",
    "    #parser.add_argument(\"--raw_data\", help=\"Path to raw data\")\n",
    "    #parser.add_argument(\"--outdir\", help=\"Path to save outputs\")\n",
    "    args = parser.parse_args(args)\n",
    "    return args\n"
   ]
  },
  {
   "cell_type": "code",
   "execution_count": null,
   "id": "466e08e9",
   "metadata": {},
   "outputs": [],
   "source": [
    "# export\n",
    "\n",
    "try:\n",
    "    from nbdev.imports import IN_NOTEBOOK\n",
    "except:\n",
    "    IN_NOTEBOOK = False\n",
    "    \n",
    "if __name__ == \"__main__\" and not IN_NOTEBOOK:\n",
    "    \n",
    "    np.random.seed(1234)\n",
    "    random.seed(1234)\n",
    "    args = parse_args(sys.argv[1:])\n",
    "    config = {}\n",
    "    if args.config:\n",
    "        with open(args.config) as f:\n",
    "            config.update(json.load(f))\n",
    "\n",
    "    config.update(vars(args))\n",
    "    hparams = HParams(**config)\n",
    "    if not os.path.exists(hparams.outdir):\n",
    "        os.makedirs(hparams.outdir)\n",
    "        \n",
    "    positions = np.load(hparams.position_file)\n",
    "    for key in hparams.ground_truth.keys():\n",
    "        if hparams.ground_truth[key] is None:\n",
    "            hparams.ground_truth[key] = np.asarray([])\n",
    "        hparams.ground_truth[key] = np.asarray(hparams.ground_truth[key], dtype = int)\n",
    "        \n",
    "    print('plotting',hparams.ground_truth)\n",
    "    #if not hparams.color_counts_all:\n",
    "    #    hparams.color_counts_all = None\n",
    "    \n",
    "    #hparams.color_counts_all = hparams.color_counts_all or None\n",
    "   # hparams.colors_id_all = hparams.colors_id_all or None\n",
    "#     kwargs = dict(result_file = hparams.result_file, \n",
    "#                     positions = positions, \n",
    "#                     d = hparams.d,\n",
    "#                     name = hparams.name, \n",
    "#                     ncord = hparams.ncord,\n",
    "#                     embedding = hparams.embedding,\n",
    "#                     ground_truth = hparams.ground_truth, \n",
    "#                     ground_truth_colors = hparams.ground_truth_colors,\n",
    "#                     outdir = hparams.outdir,\n",
    "#                     color_counts_all = hparams.color_counts_all,\n",
    "#                    colors_id_all = hparams.colors_id_all,\n",
    "#                    n_components = hparams.n_components,\n",
    "#                    ptsize = hparams.ptsize,\n",
    "#                    alpha = hparams.alpha)\n",
    "#    plot_experiment(**{k: v for k, v in kwargs.items() if v is not None})\n",
    "#    plot_experiment(**{k: v for k, v in kwargs.items() if v is not None})\n",
    "    plot_experiment(result_file = hparams.result_file, \n",
    "                    positions = positions, \n",
    "                    d = hparams.d,\n",
    "                    name = hparams.name, \n",
    "                    ncord = hparams.ncord,\n",
    "                    embedding = hparams.embedding,\n",
    "                    ground_truth = hparams.ground_truth, \n",
    "                    colors_gt = hparams.ground_truth_colors,\n",
    "                    outdir = hparams.outdir,\n",
    "                    color_counts_all = hparams.color_counts_all,\n",
    "                   colors_id_all = hparams.colors_id_all,\n",
    "                   n_components = hparams.n_components,\n",
    "                   ptsize = hparams.ptsize,\n",
    "                   alpha = hparams.alpha,\n",
    "                   gt_reg_color = hparams.gt_reg_color,\n",
    "                   sel_reg_color = hparams.sel_reg_color,\n",
    "                   plot_watch_full = hparams.plot_watch_full,\n",
    "                   plot_watch_results = hparams.plot_watch_results,\n",
    "                    cosine_color = hparams.cosine_color,\n",
    "                    selected_cosines = hparams.selected_cosines,\n",
    "                    cosine_cluster = hparams.cosine_cluster\n",
    "                   )\n",
    "        "
   ]
  },
  {
   "cell_type": "code",
   "execution_count": 11,
   "id": "5312acaa",
   "metadata": {},
   "outputs": [],
   "source": [
    "# import json\n",
    "# with open(\"/Users/samsonkoelle/tunatostada/experiments/configs_plotting/rigidethanol_diagram.json\") as f:\n",
    "#     asdf = json.load(f)"
   ]
  },
  {
   "cell_type": "code",
   "execution_count": 69,
   "id": "5c0984bf",
   "metadata": {},
   "outputs": [
    {
     "name": "stdout",
     "output_type": "stream",
     "text": [
      "loading data\n"
     ]
    }
   ],
   "source": [
    "print('loading data')\n",
    "import dill as pickle\n",
    "with open(\"/Users/samsonkoelle/thesis_data/processed_data_2/malonaldehyde/mal_diagram_mfresults_mflasso\",'rb') as inp:\n",
    "    results = pickle.load(inp, pickle.HIGHEST_PROTOCOL)\n",
    "\n"
   ]
  },
  {
   "cell_type": "code",
   "execution_count": 73,
   "id": "98d0eb28",
   "metadata": {},
   "outputs": [],
   "source": [
    "from montlake.utils.utils import get_atoms4_full, get_index_matching, get_cosines"
   ]
  },
  {
   "cell_type": "code",
   "execution_count": 79,
   "id": "50e0b57d",
   "metadata": {},
   "outputs": [
    {
     "data": {
      "text/plain": [
       "array([[1.        , 0.92191246, 0.90917007, 0.88257221, 0.91311019,\n",
       "        0.87827517, 0.46415956, 0.44612611, 0.45327527, 0.43032656,\n",
       "        0.41448593, 0.41329671],\n",
       "       [0.92191246, 1.        , 0.84653835, 0.92032937, 0.84868587,\n",
       "        0.90512683, 0.4171863 , 0.41635055, 0.41157314, 0.40426011,\n",
       "        0.39219617, 0.39166728],\n",
       "       [0.90917007, 0.84653835, 1.        , 0.92934256, 0.93115232,\n",
       "        0.88857513, 0.44324942, 0.47430965, 0.48419131, 0.41989391,\n",
       "        0.42875622, 0.44096767],\n",
       "       [0.88257221, 0.92032937, 0.92934256, 1.        , 0.87485336,\n",
       "        0.92721843, 0.40572766, 0.43593713, 0.4325408 , 0.37944793,\n",
       "        0.3905033 , 0.40877931],\n",
       "       [0.91311019, 0.84868587, 0.93115232, 0.87485336, 1.        ,\n",
       "        0.94237886, 0.46051916, 0.47210575, 0.48782693, 0.44203316,\n",
       "        0.43406597, 0.46260658],\n",
       "       [0.87827517, 0.90512683, 0.88857513, 0.92721843, 0.94237886,\n",
       "        1.        , 0.42364496, 0.45804624, 0.44428904, 0.41369211,\n",
       "        0.41264986, 0.4496674 ],\n",
       "       [0.46415956, 0.4171863 , 0.44324942, 0.40572766, 0.46051916,\n",
       "        0.42364496, 1.        , 0.93318176, 0.94646954, 0.96086282,\n",
       "        0.91694597, 0.90518563],\n",
       "       [0.44612611, 0.41635055, 0.47430965, 0.43593713, 0.47210575,\n",
       "        0.45804624, 0.93318176, 1.        , 0.9435392 , 0.90989756,\n",
       "        0.95025928, 0.92754412],\n",
       "       [0.45327527, 0.41157314, 0.48419131, 0.4325408 , 0.48782693,\n",
       "        0.44428904, 0.94646954, 0.9435392 , 1.        , 0.92504954,\n",
       "        0.91251317, 0.94010118],\n",
       "       [0.43032656, 0.40426011, 0.41989391, 0.37944793, 0.44203316,\n",
       "        0.41369211, 0.96086282, 0.90989756, 0.92504954, 1.        ,\n",
       "        0.94774976, 0.93923865],\n",
       "       [0.41448593, 0.39219617, 0.42875622, 0.3905033 , 0.43406597,\n",
       "        0.41264986, 0.91694597, 0.95025928, 0.91251317, 0.94774976,\n",
       "        1.        , 0.95797292],\n",
       "       [0.41329671, 0.39166728, 0.44096767, 0.40877931, 0.46260658,\n",
       "        0.4496674 , 0.90518563, 0.92754412, 0.94010118, 0.93923865,\n",
       "        0.95797292, 1.        ]])"
      ]
     },
     "execution_count": 79,
     "metadata": {},
     "output_type": "execute_result"
    }
   ],
   "source": [
    "np.abs(get_cosines(results['replicates_small'][0].dg_M)).mean(axis = 0)"
   ]
  },
  {
   "cell_type": "code",
   "execution_count": 70,
   "id": "d177d060",
   "metadata": {},
   "outputs": [
    {
     "data": {
      "text/plain": [
       "(100, 2, 12)"
      ]
     },
     "execution_count": 70,
     "metadata": {},
     "output_type": "execute_result"
    }
   ],
   "source": [
    "results['replicates_small'][0].dg_M.shape"
   ]
  },
  {
   "cell_type": "code",
   "execution_count": 71,
   "id": "a9d38d44",
   "metadata": {},
   "outputs": [
    {
     "data": {
      "text/plain": [
       "array([[1.        , 0.92191246, 0.90917007, 0.88257221, 0.91311019,\n",
       "        0.87827517, 0.46415956, 0.44612611, 0.45327527, 0.43032656,\n",
       "        0.41448593, 0.41329671],\n",
       "       [0.92191246, 1.        , 0.84653835, 0.92032937, 0.84868587,\n",
       "        0.90512683, 0.4171863 , 0.41635055, 0.41157314, 0.40426011,\n",
       "        0.39219617, 0.39166728],\n",
       "       [0.90917007, 0.84653835, 1.        , 0.92934256, 0.93115232,\n",
       "        0.88857513, 0.44324942, 0.47430965, 0.48419131, 0.41989391,\n",
       "        0.42875622, 0.44096767],\n",
       "       [0.88257221, 0.92032937, 0.92934256, 1.        , 0.87485336,\n",
       "        0.92721843, 0.40572766, 0.43593713, 0.4325408 , 0.37944793,\n",
       "        0.3905033 , 0.40877931],\n",
       "       [0.91311019, 0.84868587, 0.93115232, 0.87485336, 1.        ,\n",
       "        0.94237886, 0.46051916, 0.47210575, 0.48782693, 0.44203316,\n",
       "        0.43406597, 0.46260658],\n",
       "       [0.87827517, 0.90512683, 0.88857513, 0.92721843, 0.94237886,\n",
       "        1.        , 0.42364496, 0.45804624, 0.44428904, 0.41369211,\n",
       "        0.41264986, 0.4496674 ],\n",
       "       [0.46415956, 0.4171863 , 0.44324942, 0.40572766, 0.46051916,\n",
       "        0.42364496, 1.        , 0.93318176, 0.94646954, 0.96086282,\n",
       "        0.91694597, 0.90518563],\n",
       "       [0.44612611, 0.41635055, 0.47430965, 0.43593713, 0.47210575,\n",
       "        0.45804624, 0.93318176, 1.        , 0.9435392 , 0.90989756,\n",
       "        0.95025928, 0.92754412],\n",
       "       [0.45327527, 0.41157314, 0.48419131, 0.4325408 , 0.48782693,\n",
       "        0.44428904, 0.94646954, 0.9435392 , 1.        , 0.92504954,\n",
       "        0.91251317, 0.94010118],\n",
       "       [0.43032656, 0.40426011, 0.41989391, 0.37944793, 0.44203316,\n",
       "        0.41369211, 0.96086282, 0.90989756, 0.92504954, 1.        ,\n",
       "        0.94774976, 0.93923865],\n",
       "       [0.41448593, 0.39219617, 0.42875622, 0.3905033 , 0.43406597,\n",
       "        0.41264986, 0.91694597, 0.95025928, 0.91251317, 0.94774976,\n",
       "        1.        , 0.95797292],\n",
       "       [0.41329671, 0.39166728, 0.44096767, 0.40877931, 0.46260658,\n",
       "        0.4496674 , 0.90518563, 0.92754412, 0.94010118, 0.93923865,\n",
       "        0.95797292, 1.        ]])"
      ]
     },
     "execution_count": 71,
     "metadata": {},
     "output_type": "execute_result"
    }
   ],
   "source": [
    "vars(results['replicates_small'][0])['cosine_abs']"
   ]
  },
  {
   "cell_type": "code",
   "execution_count": 64,
   "id": "14fe45b7",
   "metadata": {},
   "outputs": [
    {
     "ename": "TypeError",
     "evalue": "'Replicate' object is not subscriptable",
     "output_type": "error",
     "traceback": [
      "\u001b[0;31m---------------------------------------------------------------------------\u001b[0m",
      "\u001b[0;31mTypeError\u001b[0m                                 Traceback (most recent call last)",
      "\u001b[0;32m<ipython-input-64-88f49710a442>\u001b[0m in \u001b[0;36m<module>\u001b[0;34m()\u001b[0m\n\u001b[0;32m----> 1\u001b[0;31m \u001b[0mresults\u001b[0m\u001b[0;34m[\u001b[0m\u001b[0;34m'replicates_small'\u001b[0m\u001b[0;34m]\u001b[0m\u001b[0;34m[\u001b[0m\u001b[0;36m0\u001b[0m\u001b[0;34m]\u001b[0m\u001b[0;34m[\u001b[0m\u001b[0;34m'cosine_abs'\u001b[0m\u001b[0;34m]\u001b[0m\u001b[0;34m\u001b[0m\u001b[0m\n\u001b[0m",
      "\u001b[0;31mTypeError\u001b[0m: 'Replicate' object is not subscriptable"
     ]
    }
   ],
   "source": [
    "results['replicates_small'][0]['cosine_abs']"
   ]
  },
  {
   "cell_type": "code",
   "execution_count": null,
   "id": "f97ec366",
   "metadata": {},
   "outputs": [],
   "source": []
  }
 ],
 "metadata": {
  "kernelspec": {
   "display_name": "manifold_env_april",
   "language": "python",
   "name": "manifold_env_april"
  },
  "language_info": {
   "codemirror_mode": {
    "name": "ipython",
    "version": 3
   },
   "file_extension": ".py",
   "mimetype": "text/x-python",
   "name": "python",
   "nbconvert_exporter": "python",
   "pygments_lexer": "ipython3",
   "version": "3.5.6"
  }
 },
 "nbformat": 4,
 "nbformat_minor": 5
}
