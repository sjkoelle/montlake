{
 "cells": [
  {
   "cell_type": "code",
   "execution_count": null,
   "id": "c7e0e265",
   "metadata": {},
   "outputs": [],
   "source": [
    "# default_exp exec.plotting"
   ]
  },
  {
   "cell_type": "code",
   "execution_count": null,
   "id": "2a16a55d",
   "metadata": {},
   "outputs": [],
   "source": [
    "# export\n",
    "from montlake.atomgeom.features import get_features,get_D_feats_feats\n",
    "from montlake.atomgeom.utils import get_atoms_4\n",
    "from montlake.simulations.rigidethanol import get_rigid_ethanol_data\n",
    "from montlake.utils.utils import get_234_indices, get_atoms3_full, get_atoms4_full, data_stream_custom_range, get_cosines\n",
    "from montlake.geometry.geometry import get_geom, get_wlpca_tangent_sel, get_rm_tangent_sel\n",
    "from montlake.gradients.estimate import get_grads_pullback\n",
    "from montlake.statistics.normalization import normalize_L212\n",
    "from montlake.optimization.gradientgrouplasso import get_sr_lambda_parallel\n",
    "from montlake.optimization.utils import get_selected_function_ids,get_selected_functions_lm2\n",
    "from montlake.utils.replicates import Replicate, get_supports_brute\n",
    "from montlake.plotting.manifolds import plot_manifold_2d,plot_manifold_featurespace\n",
    "from montlake.plotting.flasso import plot_reg_path_ax_lambdasearch_customcolors_norm, plot_watch_custom\n",
    "from megaman.embedding import SpectralEmbedding\n",
    "from montlake.statistics.supportrecovery import get_min_min, get_mu_full_ind, get_kappa_s,get_gamma_max\n",
    "from montlake.plotting.main import plot_experiment\n",
    "\n",
    "import pandas as pd\n",
    "import dill as pickle\n",
    "import os\n",
    "import sys\n",
    "import numpy as np\n",
    "import itertools\n",
    "from itertools import permutations,combinations\n",
    "from sklearn.decomposition import TruncatedSVD\n",
    "import pathos\n",
    "from pathos.multiprocessing import ProcessingPool as Pool"
   ]
  },
  {
   "cell_type": "code",
   "execution_count": null,
   "id": "1c1bb48c",
   "metadata": {},
   "outputs": [],
   "source": [
    "# export\n",
    "import numpy as np\n",
    "import random\n",
    "import argparse\n",
    "import json\n",
    "import sys\n",
    "import scipy\n",
    "from ..vendor.tfcompat.hparam import HParams\n",
    "import os\n",
    "\n",
    "def parse_args(args):\n",
    "    parser= argparse.ArgumentParser()\n",
    "    parser.add_argument(\"--config\", help=\"Path to JSON config (can override with cmd line args)\")\n",
    "    #parser.add_argument(\"--raw_data\", help=\"Path to raw data\")\n",
    "    #parser.add_argument(\"--outdir\", help=\"Path to save outputs\")\n",
    "    args = parser.parse_args(args)\n",
    "    return args\n"
   ]
  },
  {
   "cell_type": "code",
   "execution_count": null,
   "id": "8e1e42bf",
   "metadata": {},
   "outputs": [],
   "source": [
    "# export\n",
    "\n",
    "try:\n",
    "    from nbdev.imports import IN_NOTEBOOK\n",
    "except:\n",
    "    IN_NOTEBOOK = False\n",
    "    \n",
    "if __name__ == \"__main__\" and not IN_NOTEBOOK:\n",
    "    \n",
    "    np.random.seed(1234)\n",
    "    random.seed(1234)\n",
    "    args = parse_args(sys.argv[1:])\n",
    "    config = {}\n",
    "    if args.config:\n",
    "        with open(args.config) as f:\n",
    "            config.update(json.load(f))\n",
    "\n",
    "    config.update(vars(args))\n",
    "    hparams = HParams(**config)\n",
    "    if not os.path.exists(hparams.outdir):\n",
    "        os.makedirs(hparams.outdir)\n",
    "        \n",
    "    positions = np.load(hparams.position_file)\n",
    "    for key in hparams.ground_truth.keys():\n",
    "        if hparams.ground_truth[key] is None:\n",
    "            hparams.ground_truth[key] = np.asarray([])\n",
    "        hparams.ground_truth[key] = np.asarray(hparams.ground_truth[key], dtype = int)\n",
    "        \n",
    "    print('plotting',hparams.ground_truth)\n",
    "    #if not hparams.color_counts_all:\n",
    "    #    hparams.color_counts_all = None\n",
    "    \n",
    "    #hparams.color_counts_all = hparams.color_counts_all or None\n",
    "   # hparams.colors_id_all = hparams.colors_id_all or None\n",
    "#     kwargs = dict(result_file = hparams.result_file, \n",
    "#                     positions = positions, \n",
    "#                     d = hparams.d,\n",
    "#                     name = hparams.name, \n",
    "#                     ncord = hparams.ncord,\n",
    "#                     embedding = hparams.embedding,\n",
    "#                     ground_truth = hparams.ground_truth, \n",
    "#                     ground_truth_colors = hparams.ground_truth_colors,\n",
    "#                     outdir = hparams.outdir,\n",
    "#                     color_counts_all = hparams.color_counts_all,\n",
    "#                    colors_id_all = hparams.colors_id_all,\n",
    "#                    n_components = hparams.n_components,\n",
    "#                    ptsize = hparams.ptsize,\n",
    "#                    alpha = hparams.alpha)\n",
    "#    plot_experiment(**{k: v for k, v in kwargs.items() if v is not None})\n",
    "#    plot_experiment(**{k: v for k, v in kwargs.items() if v is not None})\n",
    "    plot_experiment(result_file = hparams.result_file, \n",
    "                    positions = positions, \n",
    "                    d = hparams.d,\n",
    "                    name = hparams.name, \n",
    "                    ncord = hparams.ncord,\n",
    "                    embedding = hparams.embedding,\n",
    "                    ground_truth = hparams.ground_truth, \n",
    "                    colors_gt = hparams.ground_truth_colors,\n",
    "                    outdir = hparams.outdir,\n",
    "                    color_counts_all = hparams.color_counts_all,\n",
    "                   colors_id_all = hparams.colors_id_all,\n",
    "                   n_components = hparams.n_components,\n",
    "                   ptsize = hparams.ptsize,\n",
    "                   alpha = hparams.alpha,\n",
    "                   gt_reg_color = hparams.gt_reg_color,\n",
    "                   sel_reg_color = hparams.sel_reg_color,\n",
    "                   plot_watch_full = hparams.plot_watch_full,\n",
    "                   plot_watch_results = hparams.plot_watch_results,\n",
    "                    cosine_color = hparams.cosine_color\n",
    "                   )\n",
    "        "
   ]
  },
  {
   "cell_type": "code",
   "execution_count": 11,
   "id": "b928e60e",
   "metadata": {},
   "outputs": [],
   "source": [
    "import json\n",
    "with open(\"/Users/samsonkoelle/tunatostada/experiments/configs_plotting/rigidethanol_diagram.json\") as f:\n",
    "    asdf = json.load(f)"
   ]
  },
  {
   "cell_type": "code",
   "execution_count": 16,
   "id": "4b0d9618",
   "metadata": {},
   "outputs": [
    {
     "name": "stdout",
     "output_type": "stream",
     "text": [
      "loading data\n"
     ]
    }
   ],
   "source": [
    "    print('loading data')\n",
    "    import dill as pickle\n",
    "    with open(\"/Users/samsonkoelle/thesis_data/processed_data_2/ethanol/eth_diagram_mfresults_mflasso\",'rb') as inp:\n",
    "        results = pickle.load(inp, pickle.HIGHEST_PROTOCOL)\n"
   ]
  },
  {
   "cell_type": "code",
   "execution_count": 22,
   "id": "2644aa42",
   "metadata": {},
   "outputs": [
    {
     "data": {
      "text/plain": [
       "(array([[48, 48, 48, 48, 48, 48, 48, 48, 48, 48, 48, 48],\n",
       "        [ 0,  0,  0,  0,  0,  0,  0,  0,  0,  0,  0,  0],\n",
       "        [ 0,  0,  0,  0,  0,  0,  0,  0,  0,  0,  0,  0],\n",
       "        [ 0,  0,  0,  0,  0,  0,  0,  0,  0,  0,  0,  0],\n",
       "        [ 0,  0,  0,  0,  0,  0,  0,  0,  0,  0,  0,  0],\n",
       "        [ 0,  0,  0,  0,  0,  0,  0,  0,  0,  0,  0,  0],\n",
       "        [ 2,  2,  2,  2,  2,  2,  2,  2,  2,  2,  2,  2],\n",
       "        [ 0,  0,  0,  0,  0,  0,  0,  0,  0,  0,  0,  0],\n",
       "        [ 0,  0,  0,  0,  0,  0,  0,  0,  0,  0,  0,  0],\n",
       "        [48, 48, 48, 48, 48, 48, 48, 48, 48, 48, 48, 48],\n",
       "        [ 2,  2,  2,  2,  2,  2,  2,  2,  2,  2,  2,  2],\n",
       "        [ 0,  0,  0,  0,  0,  0,  0,  0,  0,  0,  0,  0]]), array([[ 0.,  9.],\n",
       "        [ 0.,  9.],\n",
       "        [ 0.,  9.],\n",
       "        [ 0.,  9.],\n",
       "        [ 0.,  9.],\n",
       "        [ 6.,  9.],\n",
       "        [ 0.,  9.],\n",
       "        [ 0.,  9.],\n",
       "        [ 0.,  9.],\n",
       "        [ 0.,  9.],\n",
       "        [ 0.,  9.],\n",
       "        [ 0.,  9.],\n",
       "        [ 0.,  9.],\n",
       "        [ 0.,  9.],\n",
       "        [ 0.,  9.],\n",
       "        [ 0.,  9.],\n",
       "        [ 0.,  9.],\n",
       "        [ 0.,  9.],\n",
       "        [ 0.,  9.],\n",
       "        [ 0., 10.],\n",
       "        [ 0.,  9.],\n",
       "        [ 0.,  9.],\n",
       "        [ 0.,  9.],\n",
       "        [ 0.,  9.],\n",
       "        [ 0.,  9.]]))"
      ]
     },
     "execution_count": 22,
     "metadata": {},
     "output_type": "execute_result"
    }
   ],
   "source": [
    "results['supports_lasso'][0], results['supports_lasso'][1]"
   ]
  },
  {
   "cell_type": "code",
   "execution_count": 43,
   "id": "bfeb5a89",
   "metadata": {},
   "outputs": [],
   "source": [
    "def supportlist_to_tensor(supports,p ):\n",
    "    d = supports.shape[1]\n",
    "    nreps = supports.shape[0]\n",
    "    support_tensor = np.zeros(np.repeat(p,d))\n",
    "    for r in range(25):\n",
    "        toadd = np.asarray(list(permutations(supports[r],d)))\n",
    "        for s in range(len(toadd)):\n",
    "            support_tensor[tuple(np.asarray(toadd[s], dtype = int))] += 1\n",
    "    return(support_tensor)"
   ]
  },
  {
   "cell_type": "code",
   "execution_count": 44,
   "id": "0366ae78",
   "metadata": {},
   "outputs": [
    {
     "data": {
      "text/plain": [
       "array([[ 0.,  0.,  0.,  0.,  0.,  0.,  0.,  0.,  0., 23.,  1.,  0.],\n",
       "       [ 0.,  0.,  0.,  0.,  0.,  0.,  0.,  0.,  0.,  0.,  0.,  0.],\n",
       "       [ 0.,  0.,  0.,  0.,  0.,  0.,  0.,  0.,  0.,  0.,  0.,  0.],\n",
       "       [ 0.,  0.,  0.,  0.,  0.,  0.,  0.,  0.,  0.,  0.,  0.,  0.],\n",
       "       [ 0.,  0.,  0.,  0.,  0.,  0.,  0.,  0.,  0.,  0.,  0.,  0.],\n",
       "       [ 0.,  0.,  0.,  0.,  0.,  0.,  0.,  0.,  0.,  0.,  0.,  0.],\n",
       "       [ 0.,  0.,  0.,  0.,  0.,  0.,  0.,  0.,  0.,  1.,  0.,  0.],\n",
       "       [ 0.,  0.,  0.,  0.,  0.,  0.,  0.,  0.,  0.,  0.,  0.,  0.],\n",
       "       [ 0.,  0.,  0.,  0.,  0.,  0.,  0.,  0.,  0.,  0.,  0.,  0.],\n",
       "       [23.,  0.,  0.,  0.,  0.,  0.,  1.,  0.,  0.,  0.,  0.,  0.],\n",
       "       [ 1.,  0.,  0.,  0.,  0.,  0.,  0.,  0.,  0.,  0.,  0.,  0.],\n",
       "       [ 0.,  0.,  0.,  0.,  0.,  0.,  0.,  0.,  0.,  0.,  0.,  0.]])"
      ]
     },
     "execution_count": 44,
     "metadata": {},
     "output_type": "execute_result"
    }
   ],
   "source": [
    "supportlist_to_tensor(supports,p )"
   ]
  },
  {
   "cell_type": "code",
   "execution_count": 41,
   "id": "d1b2e78b",
   "metadata": {},
   "outputs": [],
   "source": [
    "    p = 12\n",
    "    d = 2\n",
    "    support_tensor = np.zeros(np.repeat(p,d))\n",
    "    supports = np.asarray(results['supports_lasso'][1], dtype = int)\n",
    "    for r in range(25):\n",
    "        toadd = np.asarray(list(permutations(supports[r],2)))\n",
    "        for s in range(len(toadd)):\n",
    "            support_tensor[tuple(np.asarray(toadd[s], dtype = int))] += 1"
   ]
  },
  {
   "cell_type": "code",
   "execution_count": 42,
   "id": "ad79003b",
   "metadata": {},
   "outputs": [
    {
     "data": {
      "text/plain": [
       "array([[ 0.,  0.,  0.,  0.,  0.,  0.,  0.,  0.,  0., 23.,  1.,  0.],\n",
       "       [ 0.,  0.,  0.,  0.,  0.,  0.,  0.,  0.,  0.,  0.,  0.,  0.],\n",
       "       [ 0.,  0.,  0.,  0.,  0.,  0.,  0.,  0.,  0.,  0.,  0.,  0.],\n",
       "       [ 0.,  0.,  0.,  0.,  0.,  0.,  0.,  0.,  0.,  0.,  0.,  0.],\n",
       "       [ 0.,  0.,  0.,  0.,  0.,  0.,  0.,  0.,  0.,  0.,  0.,  0.],\n",
       "       [ 0.,  0.,  0.,  0.,  0.,  0.,  0.,  0.,  0.,  0.,  0.,  0.],\n",
       "       [ 0.,  0.,  0.,  0.,  0.,  0.,  0.,  0.,  0.,  1.,  0.,  0.],\n",
       "       [ 0.,  0.,  0.,  0.,  0.,  0.,  0.,  0.,  0.,  0.,  0.,  0.],\n",
       "       [ 0.,  0.,  0.,  0.,  0.,  0.,  0.,  0.,  0.,  0.,  0.,  0.],\n",
       "       [23.,  0.,  0.,  0.,  0.,  0.,  1.,  0.,  0.,  0.,  0.,  0.],\n",
       "       [ 1.,  0.,  0.,  0.,  0.,  0.,  0.,  0.,  0.,  0.,  0.,  0.],\n",
       "       [ 0.,  0.,  0.,  0.,  0.,  0.,  0.,  0.,  0.,  0.,  0.,  0.]])"
      ]
     },
     "execution_count": 42,
     "metadata": {},
     "output_type": "execute_result"
    }
   ],
   "source": [
    "support_tensor"
   ]
  },
  {
   "cell_type": "code",
   "execution_count": 27,
   "id": "c762253b",
   "metadata": {},
   "outputs": [],
   "source": [
    "import numpy as np\n",
    "from itertools import permutations"
   ]
  },
  {
   "cell_type": "code",
   "execution_count": 12,
   "id": "2dca7ede",
   "metadata": {},
   "outputs": [
    {
     "data": {
      "text/plain": [
       "'/Users/samsonkoelle/thesis_data/plots/rigidethanol'"
      ]
     },
     "execution_count": 12,
     "metadata": {},
     "output_type": "execute_result"
    }
   ],
   "source": [
    "config = {}\n",
    "config.update(asdf)\n",
    "config['outdir']\n",
    "asdf\n",
    "\n",
    "from montlake.vendor.tfcompat.hparam import HParams\n",
    "hparams = HParams(**config)\n",
    "config\n",
    "hparams.outdir"
   ]
  }
 ],
 "metadata": {
  "kernelspec": {
   "display_name": "manifold_env_april",
   "language": "python",
   "name": "manifold_env_april"
  },
  "language_info": {
   "codemirror_mode": {
    "name": "ipython",
    "version": 3
   },
   "file_extension": ".py",
   "mimetype": "text/x-python",
   "name": "python",
   "nbconvert_exporter": "python",
   "pygments_lexer": "ipython3",
   "version": "3.5.6"
  }
 },
 "nbformat": 4,
 "nbformat_minor": 5
}
