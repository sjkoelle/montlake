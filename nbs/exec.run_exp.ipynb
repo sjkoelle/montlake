{
 "cells": [
  {
   "cell_type": "code",
   "execution_count": null,
   "id": "c557352b",
   "metadata": {},
   "outputs": [],
   "source": [
    "# default_exp exec.run_exp"
   ]
  },
  {
   "cell_type": "code",
   "execution_count": null,
   "id": "47d9136e",
   "metadata": {},
   "outputs": [],
   "source": [
    "#from montlake.tslasso.main import run_exp"
   ]
  },
  {
   "cell_type": "code",
   "execution_count": null,
   "id": "45c61773",
   "metadata": {},
   "outputs": [],
   "source": [
    "# export\n",
    "import numpy as np\n",
    "import random\n",
    "import argparse\n",
    "import json\n",
    "import sys\n",
    "import scipy\n",
    "from ..vendor.tfcompat.hparam import HParams\n",
    "from montlake.mflasso.main import run_exp as run_exp_mflasso\n",
    "from montlake.tslasso.main import run_exp as run_exp_tslasso\n",
    "import os\n",
    "\n",
    "def parse_args(args):\n",
    "    parser= argparse.ArgumentParser()\n",
    "    parser.add_argument(\"--config\", help=\"Path to JSON config (can override with cmd line args)\")\n",
    "    parser.add_argument(\"--raw_data\", help=\"Path to raw data\")\n",
    "    parser.add_argument(\"--outdir\", help=\"Path to save outputs\")\n",
    "    parser.add_argument(\"--nreps\", help=\"Number of replicates\", type = int)\n",
    "    parser.add_argument(\"--name\", help = \"Name for saving\")\n",
    "    parser.add_argument(\"--tslasso\", help = \"run tslasso\",  action='store_true')\n",
    "    parser.add_argument(\"--mflasso\", help = \"run mflasso\",  action='store_true')\n",
    "    parser.add_argument(\"--nsel\", default = 100, type = int)\n",
    "    args = parser.parse_args(args)\n",
    "    return args\n",
    "\n",
    "def subset_data(hparams):\n",
    "    \n",
    "    nsub = hparams.n\n",
    "    file_type = str(hparams.raw_data[-3:])\n",
    "    if file_type == \"mat\":\n",
    "        data = scipy.io.loadmat(hparams.raw_data)\n",
    "        n = data['R'].shape[0]\n",
    "        nsub = np.min((nsub, n))\n",
    "        randomindices = np.random.choice(range(n),nsub, replace = False)\n",
    "        positions = data['R'][randomindices,:,:]        \n",
    "    if file_type == \"npz\": \n",
    "        data = np.load(hparams.raw_data)\n",
    "        n = data['R'].shape[0]\n",
    "        nsub = np.min((nsub, n))\n",
    "        randomindices = np.random.choice(range(n),nsub, replace = False)\n",
    "        positions = data['R'][randomindices,:,:]  \n",
    "    if file_type == 'npy':\n",
    "        data = np.load(hparams.raw_data)\n",
    "        n = data.shape[0]\n",
    "        nsub = np.min((nsub, n))\n",
    "        randomindices = np.random.choice(range(n),nsub, replace = False)\n",
    "        positions = data[randomindices,:,:]  \n",
    "    print(nsub, ' points avaiable')\n",
    "    return(positions, randomindices)"
   ]
  },
  {
   "cell_type": "code",
   "execution_count": null,
   "id": "0ce4b50a",
   "metadata": {},
   "outputs": [],
   "source": [
    "# export\n",
    "import pdb\n",
    "\n",
    "try:\n",
    "    from nbdev.imports import IN_NOTEBOOK\n",
    "except:\n",
    "    IN_NOTEBOOK = False\n",
    "    \n",
    "if __name__ == \"__main__\" and not IN_NOTEBOOK:\n",
    "    \n",
    "    np.random.seed(1234)\n",
    "    random.seed(1234)\n",
    "    args = parse_args(sys.argv[1:])\n",
    "    print(args)\n",
    "    config = {}\n",
    "    if args.config:\n",
    "        with open(args.config) as f:\n",
    "            config.update(json.load(f))\n",
    "            \n",
    "    #pdb.set_trace()\n",
    "    config.update(vars(args))\n",
    "    hparams = HParams(**config)\n",
    "#    if hparams.data_sub == None:\n",
    "    positions, randomindices = subset_data(hparams)\n",
    "#     else: \n",
    "#         positions = np.load(hparams.data_sub)\n",
    "\n",
    "    if not os.path.exists(hparams.outdir):\n",
    "        os.makedirs(hparams.outdir)\n",
    "        \n",
    "    np.save(hparams.outdir + '/positions' + hparams.name, positions)\n",
    "    np.save(hparams.outdir + '/indices'+ hparams.name, randomindices)\n",
    "    \n",
    "    if hparams.mflasso:\n",
    "        run_exp_mflasso(positions = positions, hparams = hparams)\n",
    "        \n",
    "    if hparams.tslasso:\n",
    "        run_exp_tslasso(positions = positions, hparams = hparams)"
   ]
  },
  {
   "cell_type": "code",
   "execution_count": null,
   "id": "130a10f9",
   "metadata": {},
   "outputs": [],
   "source": []
  }
 ],
 "metadata": {
  "kernelspec": {
   "display_name": "manifold_env_april",
   "language": "python",
   "name": "manifold_env_april"
  },
  "language_info": {
   "codemirror_mode": {
    "name": "ipython",
    "version": 3
   },
   "file_extension": ".py",
   "mimetype": "text/x-python",
   "name": "python",
   "nbconvert_exporter": "python",
   "pygments_lexer": "ipython3",
   "version": "3.5.6"
  }
 },
 "nbformat": 4,
 "nbformat_minor": 5
}
