{
 "cells": [
  {
   "cell_type": "code",
   "execution_count": null,
   "id": "cac7aadd",
   "metadata": {},
   "outputs": [],
   "source": [
    "#default_exp plotting.manifolds"
   ]
  },
  {
   "cell_type": "code",
   "execution_count": null,
   "id": "9e6c4a5a",
   "metadata": {},
   "outputs": [],
   "source": [
    "# export \n",
    "import matplotlib.pyplot as plt\n",
    "import matplotlib as mpl\n",
    "mpl.rcParams['text.usetex'] = True\n",
    "mpl.rcParams['text.latex.preamble'] = [r'\\usepackage{amsmath}'] #for \\text command\n"
   ]
  },
  {
   "cell_type": "code",
   "execution_count": null,
   "id": "a9df3e26",
   "metadata": {},
   "outputs": [],
   "source": [
    "# export\n",
    "def plot_manifold(data, s, alpha, c, title):\n",
    "    fig, axs = plt.subplots(1,1, figsize = (15,10))\n",
    "    axs.set_axis_off()\n",
    "\n",
    "    selected_points = list(range(10000))\n",
    "    x = data[:, 0][selected_points]\n",
    "    y = data[:, 1][selected_points]\n",
    "    z = data[:, 2][selected_points]\n",
    "\n",
    "    ax = fig.add_subplot(1,1,1, projection='3d')\n",
    "\n",
    "    #ax.scatter(x, y, z, c = g1, s=s, alpha=alpha, marker='.',vmin=0,vmax=np.pi)\n",
    "    ax.scatter(x, y, z, s=s, alpha=alpha, marker='.',vmin=0,vmax=np.pi)\n",
    "    ax.set_xlabel(r'$\\phi_1$', fontsize = 60)\n",
    "    ax.set_ylabel(r'$\\phi_2$', fontsize = 60)\n",
    "    ax.set_zlabel(r'$\\phi_3$', fontsize = 60)\n",
    "\n",
    "    ax.set_title(title, fontsize = 80, color = 'orange')\n",
    "    #ax.set_title(r'$g_{1}$', fontsize = 80, color = 'orange')\n",
    "\n",
    "    xmin = np.float(np.format_float_positional(data[:, 0][selected_points].min(), precision=2, fractional=False))\n",
    "    xmax = np.float(np.format_float_positional(data[:, 0][selected_points].max(), precision=2, fractional=False))\n",
    "    ymin = np.float(np.format_float_positional(data[:, 1][selected_points].min(), precision=2, fractional=False))\n",
    "    ymax = np.float(np.format_float_positional(data[:, 1][selected_points].max(), precision=2, fractional=False))\n",
    "    zmin = np.float(np.format_float_positional(data[:, 2][selected_points].min(), precision=2, fractional=False))\n",
    "    zmax = np.float(np.format_float_positional(data[:, 2][selected_points].max(), precision=2, fractional=False))\n",
    "    ax.set_xticks([xmin, xmax])\n",
    "    ax.set_yticks([ymin, ymax])\n",
    "    ax.set_zticks([zmin, zmax])\n",
    "    ax.tick_params(labelsize=30)\n",
    "    ax.xaxis.set_pane_color((1.0, 1.0, 1.0, 0.0))\n",
    "    ax.yaxis.set_pane_color((1.0, 1.0, 1.0, 0.0))\n",
    "    ax.zaxis.set_pane_color((1.0, 1.0, 1.0, 0.0))\n",
    "    # make the grid lines transparent\n",
    "    ax.xaxis._axinfo[\"grid\"]['color'] =  (1,1,1,0)\n",
    "    ax.yaxis._axinfo[\"grid\"]['color'] =  (1,1,1,0)\n",
    "    ax.zaxis._axinfo[\"grid\"]['color'] =  (1,1,1,0)\n",
    "    #plt.savefig('/Users/samsonkoelle/Downloads/manigrad-100818/mani-samk-gradients/Figures/figure_for_jmlr/re_groundtruth_g1_noise')"
   ]
  }
 ],
 "metadata": {
  "kernelspec": {
   "display_name": "manifold_env_april",
   "language": "python",
   "name": "manifold_env_april"
  },
  "language_info": {
   "codemirror_mode": {
    "name": "ipython",
    "version": 3
   },
   "file_extension": ".py",
   "mimetype": "text/x-python",
   "name": "python",
   "nbconvert_exporter": "python",
   "pygments_lexer": "ipython3",
   "version": "3.5.6"
  }
 },
 "nbformat": 4,
 "nbformat_minor": 5
}
