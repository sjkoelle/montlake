{
 "cells": [
  {
   "cell_type": "code",
   "execution_count": null,
   "id": "ab7add5c",
   "metadata": {},
   "outputs": [],
   "source": [
    "# default_exp optimization.utils"
   ]
  },
  {
   "cell_type": "code",
   "execution_count": 5,
   "id": "4777bf87",
   "metadata": {},
   "outputs": [],
   "source": [
    "# export \n",
    "import itertools\n",
    "import numpy as np"
   ]
  },
  {
   "cell_type": "code",
   "execution_count": null,
   "id": "e2e00e28",
   "metadata": {},
   "outputs": [],
   "source": [
    "#export\n",
    "\n",
    "def get_selected_function_array(replicates,d):\n",
    "    \n",
    "    p = replicates[0].results[1][0.].shape[1]\n",
    "    nreps = len(list(replicates.keys()))\n",
    "    \n",
    "    selected_function_array = np.zeros(np.repeat(p,d))\n",
    "    for r in range(nreps):\n",
    "        sel_l = replicates[r].sel_l\n",
    "\n",
    "        sel[r] = np.where((replicates[r].cs_reorder**2).sum(axis = tuple([1,2]))[sel_l] !=0.)[0]\n",
    "        edit_locations = itertools.permutations(sel[r], d)\n",
    "        for j in range(len(edit_locations)):\n",
    "            selected_function_array[tuple(sel[r][edit_locations[j]] )] += 1\n",
    "            \n",
    "    return(selected_function_array)"
   ]
  },
  {
   "cell_type": "code",
   "execution_count": null,
   "id": "b2579087",
   "metadata": {},
   "outputs": [],
   "source": [
    "# export \n",
    "\n",
    "def get_selected_function_ids(replicates, d):\n",
    "    \n",
    "    nreps = len(list(replicates.keys()))\n",
    "    \n",
    "    selected_function_ids = np.zeros((nreps,d))\n",
    "    for r in range(nreps):\n",
    "        sel_l = replicates[r].sel_l\n",
    "        selected_function_ids[r] = np.where((replicates[r].cs_reorder**2).sum(axis = tuple([1,2]))[sel_l] !=0.)[0]\n",
    "    return(selected_function_ids)"
   ]
  },
  {
   "cell_type": "code",
   "execution_count": null,
   "id": "cc69d597",
   "metadata": {},
   "outputs": [],
   "source": [
    "# export\n",
    "def get_selected_functions_lm2(replicates):\n",
    "    \n",
    "    nreps = len(list(replicates.keys()))\n",
    "    \n",
    "    selected_function_ids = {}\n",
    "    for r in range(nreps):\n",
    "        sel_l = 1\n",
    "        selected_function_ids[r] = np.where((replicates[r].cs_reorder**2).sum(axis = tuple([1,2]))[sel_l] !=0.)[0]\n",
    "        \n",
    "    return(selected_function_ids)    "
   ]
  }
 ],
 "metadata": {
  "kernelspec": {
   "display_name": "manifold_env_april",
   "language": "python",
   "name": "manifold_env_april"
  },
  "language_info": {
   "codemirror_mode": {
    "name": "ipython",
    "version": 3
   },
   "file_extension": ".py",
   "mimetype": "text/x-python",
   "name": "python",
   "nbconvert_exporter": "python",
   "pygments_lexer": "ipython3",
   "version": "3.5.6"
  }
 },
 "nbformat": 4,
 "nbformat_minor": 5
}
