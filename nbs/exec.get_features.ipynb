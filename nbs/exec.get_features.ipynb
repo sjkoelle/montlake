{
 "cells": [
  {
   "cell_type": "code",
   "execution_count": 1,
   "id": "321b238e",
   "metadata": {},
   "outputs": [],
   "source": [
    "#default_exp exec.features"
   ]
  },
  {
   "cell_type": "code",
   "execution_count": 7,
   "id": "5f77ae6d",
   "metadata": {},
   "outputs": [],
   "source": [
    "# export\n",
    "from pathos.multiprocessing import ProcessingPool as Pool\n",
    "import pathos\n",
    "from montlake.atomgeom.features import get_features\n",
    "from montlake.utils.utils import data_stream_custom_range\n",
    "import pickle\n",
    "import sys\n",
    "import argparse \n",
    "import numpy as np\n",
    "import itertools\n",
    "import tqdm\n",
    "import json\n",
    "\n",
    "def load_data(dataset, name, outdir,numpoints):\n",
    "    \n",
    "    data = np.load(dataset)\n",
    "    n = np.min((numpoints, data['R'].shape[0]))\n",
    "    randomindices = np.random.choice(range(data['R'].shape[0]),n, replace = False)\n",
    "    positions = data['R'][randomindices,:,:]\n",
    "    \n",
    "    np.save(outdir + '/'+name + 'indices',randomindices)\n",
    "    np.save(outdir + '/'+name + 'positions',positions)\n",
    "    \n",
    "    return(positions)\n",
    "    \n",
    "def get_features_parallel(data,atoms2, atoms3,atoms4,cores):\n",
    "    \n",
    "    #cores = pathos.multiprocessing.cpu_count() - 1\n",
    "    p = Pool(cores)    \n",
    "    n = data.shape[0]\n",
    "    print('n',n)\n",
    "    results = list(tqdm.tqdm(p.imap(\n",
    "        lambda j: get_features(data[j],\n",
    "                               atoms2 = atoms2,\n",
    "                               atoms3 = atoms3,\n",
    "                               atoms4 = atoms4),\n",
    "        data_stream_custom_range(list(range(n)))), total=n))\n",
    "    output = {}\n",
    "    output['features2'] = np.stack([results[i][0] for i in range(n)])\n",
    "    output['features3'] = np.stack([results[i][1] for i in range(n)])\n",
    "    output['features4'] = np.stack([results[i][2] for i in range(n)])\n",
    "    return(output)\n",
    "\n",
    "# def parse_args(args):\n",
    "#     parser = argparse.ArgumentParser()\n",
    "#     parser.add_argument(\"--outdir\")\n",
    "#     parser.add_argument(\"--dataset\")\n",
    "#     parser.add_argument(\"--name\")\n",
    "#     parser.add_argument(\"--numpoints\")\n",
    "#     parser.add_argument(\"--cores\")\n",
    "#     return parser.parse_args(args)\n",
    "\n",
    "def parse_args(args):\n",
    "    parser= argparse.ArgumentParser()\n",
    "    parser.add_argument(\"--config\", help=\"Path to JSON config\")\n",
    "    args = parser.parse_args(args)\n",
    "    return args"
   ]
  },
  {
   "cell_type": "code",
   "execution_count": 1,
   "id": "14a35e53",
   "metadata": {},
   "outputs": [],
   "source": [
    "# # export\n",
    "\n",
    "# try:\n",
    "#     from nbdev.imports import IN_NOTEBOOK\n",
    "# except:\n",
    "#     IN_NOTEBOOK = False\n",
    "\n",
    "# if __name__ == \"__main__\" and not IN_NOTEBOOK:\n",
    "#     args = parse_args(sys.argv[1:])\n",
    "#     dataset = args.dataset\n",
    "#     name = args.name\n",
    "#     numpoints = int(args.numpoints)\n",
    "#     outdir = args.outdir\n",
    "#     cores = int(args.cores)\n",
    "#     data = load_data(dataset, name,outdir,numpoints)\n",
    "#     natoms = data.shape[1]\n",
    "    \n",
    "#     if include_atoms2:\n",
    "#         atoms2 = np.asarray(list(itertools.combinations(range(natoms), 2))) \n",
    "#     if include_atoms3:\n",
    "#         atoms3 = np.asarray(list(itertools.combinations(range(natoms), 2))) \n",
    "#     if include_atoms4\n",
    "#     atoms3 = np.asarray(list(itertools.combinations(range(natoms), 3))) \n",
    "#     atoms4 = np.asarray(list(itertools.combinations(range(natoms), 4))) \n",
    "\n",
    "#     output = get_features_parallel(data,atoms2,atoms3,atoms4,cores)\n",
    "#     with open(outdir +'/'+ name + 'features', 'wb') as handle:\n",
    "#         pickle.dump(output, handle, protocol=pickle.HIGHEST_PROTOCOL)"
   ]
  },
  {
   "cell_type": "code",
   "execution_count": 4,
   "id": "5fc95e87",
   "metadata": {},
   "outputs": [],
   "source": [
    "# python -m montlake.exec.get_features --outdir ~/thesis_data/processed_data --numpoints 5 --name dimethylfuran --dataset ~/thesis_data/raw_data/dimethylfuran.DFT.PBE-TS.light.MD.500K.01.npz"
   ]
  },
  {
   "cell_type": "code",
   "execution_count": 4,
   "id": "20d6af35",
   "metadata": {},
   "outputs": [],
   "source": [
    "#get_features(data[j],atoms2 = atoms2, atoms3 = atoms3,atoms4 = atoms4)\n",
    "\n",
    "# dataset= '/Users/samsonkoelle/thesis_data/raw_data/dimethylfuran.DFT.PBE-TS.light.MD.500K.01.npz'\n",
    "# data = load_data(dataset=dataset, name = 'asdf',outdir = '/Users/samsonkoelle',numpoints = 5)"
   ]
  },
  {
   "cell_type": "code",
   "execution_count": 5,
   "id": "81401b37",
   "metadata": {},
   "outputs": [
    {
     "name": "stdout",
     "output_type": "stream",
     "text": [
      "n 5\n"
     ]
    },
    {
     "name": "stderr",
     "output_type": "stream",
     "text": [
      "100%|██████████| 5/5 [00:03<00:00,  1.53it/s]\n"
     ]
    }
   ],
   "source": [
    "# natoms = 15\n",
    "# atoms2 = np.asarray(list(itertools.combinations(range(natoms), 2))) \n",
    "# atoms3 = np.asarray(list(itertools.combinations(range(natoms), 3))) \n",
    "# atoms4 = np.asarray(list(itertools.combinations(range(natoms), 4))) \n",
    "\n",
    "# output = get_features_parallel(data,atoms2, atoms3,atoms4)"
   ]
  },
  {
   "cell_type": "code",
   "execution_count": null,
   "id": "01f9822c",
   "metadata": {},
   "outputs": [],
   "source": []
  }
 ],
 "metadata": {
  "kernelspec": {
   "display_name": "manifold_env_april",
   "language": "python",
   "name": "manifold_env_april"
  },
  "language_info": {
   "codemirror_mode": {
    "name": "ipython",
    "version": 3
   },
   "file_extension": ".py",
   "mimetype": "text/x-python",
   "name": "python",
   "nbconvert_exporter": "python",
   "pygments_lexer": "ipython3",
   "version": "3.5.6"
  }
 },
 "nbformat": 4,
 "nbformat_minor": 5
}
