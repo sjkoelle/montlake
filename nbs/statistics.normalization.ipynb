{
 "cells": [
  {
   "cell_type": "code",
   "execution_count": 1,
   "id": "c9f615af",
   "metadata": {},
   "outputs": [],
   "source": [
    "#default_exp statistics.normalization"
   ]
  },
  {
   "cell_type": "code",
   "execution_count": 2,
   "id": "c12e2864",
   "metadata": {},
   "outputs": [],
   "source": [
    "# export\n",
    "import numpy as np\n",
    "\n",
    "def normalize_L212(X):\n",
    "    \n",
    "    n = X.shape[0]\n",
    "    norms = np.linalg.norm(X, axis = tuple([0,1]))#.sum(axis = )\n",
    "    gammas = np.sqrt(n) / norms\n",
    "    X_norm = np.einsum('i b p, p -> i b p', X, gammas)\n",
    "    \n",
    "    return(X_norm)"
   ]
  },
  {
   "cell_type": "code",
   "execution_count": null,
   "id": "1ff9c905",
   "metadata": {},
   "outputs": [],
   "source": [
    "#lambda is not being divided by \\sqrt{mn} currently, so it is actually \\sqrt{mn} larger than it appears...\n",
    "#must be increased "
   ]
  }
 ],
 "metadata": {
  "kernelspec": {
   "display_name": "manifold_env_april",
   "language": "python",
   "name": "manifold_env_april"
  },
  "language_info": {
   "codemirror_mode": {
    "name": "ipython",
    "version": 3
   },
   "file_extension": ".py",
   "mimetype": "text/x-python",
   "name": "python",
   "nbconvert_exporter": "python",
   "pygments_lexer": "ipython3",
   "version": "3.5.6"
  }
 },
 "nbformat": 4,
 "nbformat_minor": 5
}
