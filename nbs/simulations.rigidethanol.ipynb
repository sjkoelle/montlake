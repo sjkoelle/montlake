{
 "cells": [
  {
   "cell_type": "code",
   "execution_count": 1,
   "id": "11fb5c67",
   "metadata": {},
   "outputs": [],
   "source": [
    "#default_exp simulations.rigidethanol"
   ]
  },
  {
   "cell_type": "code",
   "execution_count": 2,
   "id": "5901e109",
   "metadata": {},
   "outputs": [],
   "source": [
    "# export\n",
    "import numpy as np\n",
    "import math\n",
    "\n",
    "def get_rigid_ethanol_data(xvar, noise = False):\n",
    "\n",
    "    n = 10000\n",
    "    natoms = 9\n",
    "    cor = 0\n",
    "    \n",
    "    positions = np.zeros((n, natoms, 3))\n",
    "    positions[0, 0, :] = np.asarray([0., 0., 0.])\n",
    "    positions[0, 1, :] = np.asarray([-10., 0., np.sqrt(2) / 100])\n",
    "    positions[0, 2, :] = np.asarray([0., 10., np.sqrt(3) / 100])\n",
    "    positions[0, 8, :] = np.asarray([1., 10., np.sqrt(5) / 100])\n",
    "    positions[0, 3, :] = np.asarray([np.sqrt(7) / 100, np.cos(2 / 3 * np.pi), np.sin(2 / 3 * np.pi)])\n",
    "    positions[0, 4, :] = np.asarray([np.sqrt(11) / 100, np.cos(2 / 3 * np.pi), np.sin(4 / 3 * np.pi)])\n",
    "    positions[0, 5, :] = np.asarray([-11., 1., np.sqrt(13) / 100])\n",
    "    positions[0, 6, :] = np.asarray([-11., np.cos(2 / 3 * np.pi) + np.sqrt(17) / 1000, np.sin(2 / 3 * np.pi)])\n",
    "    positions[0, 7, :] = np.asarray([-11., np.cos(2 / 3 * np.pi) + np.sqrt(19) / 100, np.sin(4 / 3 * np.pi)])\n",
    "\n",
    "    angles1 = np.tile(np.linspace(start=0., stop=2 * math.pi, num=int(np.sqrt(n)), endpoint=False),\n",
    "                      int(np.sqrt(n)))\n",
    "    angles2 = np.repeat(np.linspace(start=0., stop=2 * math.pi, num=int(np.sqrt(n)), endpoint=False),\n",
    "                        int(np.sqrt(n)))\n",
    "    for i in range(1, n):\n",
    "        rotationmatrix1 = np.zeros((3, 3))\n",
    "        rotationmatrix1[1, 1] = 1\n",
    "        rotationmatrix1[0, 0] = np.cos(angles1[i])\n",
    "        rotationmatrix1[0, 2] = -np.sin(angles1[i])\n",
    "        rotationmatrix1[2, 2] = np.cos(angles1[i])\n",
    "        rotationmatrix1[2, 0] = np.sin(angles1[i])\n",
    "        rotationmatrix2 = np.zeros((3, 3))\n",
    "        rotationmatrix2[0, 0] = 1\n",
    "        rotationmatrix2[1, 1] = np.cos(angles2[i])\n",
    "        rotationmatrix2[1, 2] = -np.sin(angles2[i])\n",
    "        rotationmatrix2[2, 2] = np.cos(angles2[i])\n",
    "        rotationmatrix2[2, 1] = np.sin(angles2[i])\n",
    "        positions[i, np.asarray([3, 4]), :] = positions[0, np.asarray([3, 4]), :]\n",
    "        positions[i, np.asarray([2, 8]), :] = np.matmul(rotationmatrix1,\n",
    "                                                        positions[0, np.asarray([2, 8]),\n",
    "                                                        :].transpose()).transpose()\n",
    "        positions[i, np.asarray([1, 5, 6, 7]), :] = np.matmul(rotationmatrix2,\n",
    "                                                              positions[0, np.asarray([1, 5, 6, 7]),\n",
    "                                                              :].transpose()).transpose()\n",
    "\n",
    "    covariance = np.identity(natoms)\n",
    "    for i in range(natoms):\n",
    "        for j in range(natoms):\n",
    "            if i != j:\n",
    "                covariance[i, j] = cor\n",
    "    covariance = xvar * covariance\n",
    "    if noise == True:\n",
    "        for i in range(n):\n",
    "            for j in range(3):\n",
    "                positions[i, :, j] = np.random.multivariate_normal(positions[i, :, j], covariance, size=1)\n",
    "\n",
    "    return (positions)\n"
   ]
  },
  {
   "cell_type": "code",
   "execution_count": null,
   "id": "098d65a1",
   "metadata": {},
   "outputs": [],
   "source": []
  },
  {
   "cell_type": "code",
   "execution_count": null,
   "id": "c9328673",
   "metadata": {},
   "outputs": [],
   "source": []
  }
 ],
 "metadata": {
  "kernelspec": {
   "display_name": "manifold_env_april",
   "language": "python",
   "name": "manifold_env_april"
  },
  "language_info": {
   "codemirror_mode": {
    "name": "ipython",
    "version": 3
   },
   "file_extension": ".py",
   "mimetype": "text/x-python",
   "name": "python",
   "nbconvert_exporter": "python",
   "pygments_lexer": "ipython3",
   "version": "3.5.6"
  }
 },
 "nbformat": 4,
 "nbformat_minor": 5
}
