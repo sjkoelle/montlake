{
 "cells": [
  {
   "cell_type": "code",
   "execution_count": 142,
   "id": "07ecb8d2",
   "metadata": {},
   "outputs": [],
   "source": [
    "import numpy as np\n",
    "import matplotlib.pyplot as plt\n",
    "import scipy.stats as st\n",
    "\n",
    "def step(clip, start, stop, minimum):\n",
    "    length = stop - start\n",
    "    edit = np.repeat(minimum,length)\n",
    "    clip[start:stop] = edit\n",
    "    return(clip)\n",
    "\n",
    "\n",
    "def smooth(start,stop, minimum,percentile, clip, outer_start, outer_stop):\n",
    "\n",
    "    editinds = range(outer_start, outer_stop)\n",
    "    mean = (start + stop) / 2\n",
    "    z = st.norm.ppf(percentile)\n",
    "    sigma = (stop - start) / (2*z)\n",
    "    rescale = st.norm.pdf(mean, loc = mean ,scale = sigma) / (1 - minimum)\n",
    "    clip[editinds] = 1 - st.norm.pdf(editinds, loc = mean ,scale = sigma) / rescale\n",
    "    return(clip)"
   ]
  },
  {
   "cell_type": "code",
   "execution_count": 143,
   "id": "837b0bfc",
   "metadata": {},
   "outputs": [
    {
     "data": {
      "text/plain": [
       "<matplotlib.collections.PathCollection at 0x7fa08a8332b0>"
      ]
     },
     "execution_count": 143,
     "metadata": {},
     "output_type": "execute_result"
    },
    {
     "data": {
      "image/png": "[encoded data removed]",
      "text/plain": [
       "<Figure size 432x288 with 1 Axes>"
      ]
     },
     "metadata": {
      "needs_background": "light"
     },
     "output_type": "display_data"
    }
   ],
   "source": [
    "n = 100000\n",
    "clip = np.ones(n)\n",
    "plt.scatter(list(range(n)), clip)"
   ]
  },
  {
   "cell_type": "code",
   "execution_count": 144,
   "id": "7f64a49e",
   "metadata": {},
   "outputs": [
    {
     "data": {
      "text/plain": [
       "<matplotlib.collections.PathCollection at 0x7fa08ab63100>"
      ]
     },
     "execution_count": 144,
     "metadata": {},
     "output_type": "execute_result"
    },
    {
     "data": {
      "image/png": "[encoded data removed]",
      "text/plain": [
       "<Figure size 432x288 with 1 Axes>"
      ]
     },
     "metadata": {
      "needs_background": "light"
     },
     "output_type": "display_data"
    }
   ],
   "source": [
    "start = 10000\n",
    "stop = 20000\n",
    "minimum = .3\n",
    "step_clip = step(clip, start, stop, minimum)\n",
    "plt.scatter(list(range(n)), step_clip)"
   ]
  },
  {
   "cell_type": "code",
   "execution_count": 145,
   "id": "3a223de7",
   "metadata": {},
   "outputs": [
    {
     "data": {
      "text/plain": [
       "<matplotlib.collections.PathCollection at 0x7fa08b30af70>"
      ]
     },
     "execution_count": 145,
     "metadata": {},
     "output_type": "execute_result"
    },
    {
     "data": {
      "image/png": "[encoded data removed]",
      "text/plain": [
       "<Figure size 432x288 with 1 Axes>"
      ]
     },
     "metadata": {
      "needs_background": "light"
     },
     "output_type": "display_data"
    }
   ],
   "source": [
    "outer_start = 0\n",
    "outer_stop = n\n",
    "percentile = .9\n",
    "smooth_clip = smooth(start,stop, minimum,percentile, clip, outer_start, outer_stop)\n",
    "plt.scatter(list(range(n)), smooth_clip)"
   ]
  },
  {
   "cell_type": "code",
   "execution_count": null,
   "id": "2f5a9849",
   "metadata": {},
   "outputs": [],
   "source": []
  },
  {
   "cell_type": "code",
   "execution_count": null,
   "id": "b13bcb00",
   "metadata": {},
   "outputs": [],
   "source": []
  }
 ],
 "metadata": {
  "kernelspec": {
   "display_name": "uberduck-ml-dev",
   "language": "python",
   "name": "uberduck-ml-dev"
  },
  "language_info": {
   "codemirror_mode": {
    "name": "ipython",
    "version": 3
   },
   "file_extension": ".py",
   "mimetype": "text/x-python",
   "name": "python",
   "nbconvert_exporter": "python",
   "pygments_lexer": "ipython3",
   "version": "3.8.12"
  }
 },
 "nbformat": 4,
 "nbformat_minor": 5
}
