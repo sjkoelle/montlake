{
 "cells": [
  {
   "cell_type": "code",
   "execution_count": null,
   "id": "924df56d",
   "metadata": {},
   "outputs": [],
   "source": [
    "#default_exp utils.replicates"
   ]
  },
  {
   "cell_type": "code",
   "execution_count": null,
   "id": "82434044",
   "metadata": {},
   "outputs": [],
   "source": [
    "# export\n",
    "import numpy as np\n",
    "from einops import rearrange\n",
    "\n",
    "def get_detected_values2d(subset, supports,nreps):\n",
    "    \n",
    "    detected_values = np.zeros((subset.shape[0],subset.shape[0]))\n",
    "    nreps = len(list(supports.keys()))\n",
    "    for r in range(nreps):\n",
    "        i1 = np.where(subset == int(supports[r][0]))[0]\n",
    "        i2 = np.where(subset == int(supports[r][1]))[0]\n",
    "        detected_values[i1,i2] += 1\n",
    "        detected_values[i2,i1] += 1\n",
    "    \n",
    "    detected_values = np.asarray(np.where(detected_values > 0))\n",
    "    return(detected_values)\n",
    "\n",
    "def get_support_indices2d(sup_set, sup_sel,nreps):\n",
    "    \n",
    "    #toplot = np.zeros(np.repeat(sup_set.shape[0], d ))\n",
    "    toplot = np.zeros((sup_set.shape[0],sup_set.shape[0]))\n",
    "    for r in range(nreps):\n",
    "        i1 = np.where(sup_set == sup_sel[r][0])[0]\n",
    "        i2 = np.where(sup_set == sup_sel[r][1])[0]\n",
    "        toplot[i1,i2] += 1\n",
    "        toplot[i2,i1] += 1   \n",
    "    return(toplot)\n",
    "\n",
    "class Replicate():\n",
    "\n",
    "    def __init__(self, nsel = None, n = None, selected_points = None):\n",
    "\n",
    "        self.nsel = nsel\n",
    "        if selected_points is not None:\n",
    "            self.selected_points = selected_points\n",
    "        else:\n",
    "            self.selected_points = np.random.choice(list(range(n)), nsel, replace=False)\n",
    "\n",
    "\n",
    "    def get_ordered_axes(self):\n",
    "        replicate = self\n",
    "        cs = rearrange(np.asarray(list(replicate.results[1].values())), 'l n p m -> l m n p')\n",
    "        xaxis = np.asarray(np.asarray(list(replicate.results[1].keys())))\n",
    "        xaxis_reorder = xaxis[xaxis.argsort()]\n",
    "        cs_reorder = cs[xaxis.argsort()]\n",
    "        xaxis_reorder = xaxis[xaxis.argsort()]\n",
    "        replicate.cs = cs\n",
    "        replicate.cs_reorder = cs_reorder\n",
    "        replicate.xaxis_reorder = xaxis_reorder\n",
    "        replicate.xaxis = xaxis\n",
    "\n",
    "    def get_selection_lambda(self):\n",
    "\n",
    "        replicate = self\n",
    "        lambdas = np.asarray(list(replicate.results[1].keys()))\n",
    "        lambdas.sort()\n",
    "        sel_l = np.where(lambdas ==  replicate.results[0])[0][0]\n",
    "        return(sel_l)\n"
   ]
  }
 ],
 "metadata": {
  "kernelspec": {
   "display_name": "manifold_env_april",
   "language": "python",
   "name": "manifold_env_april"
  },
  "language_info": {
   "codemirror_mode": {
    "name": "ipython",
    "version": 3
   },
   "file_extension": ".py",
   "mimetype": "text/x-python",
   "name": "python",
   "nbconvert_exporter": "python",
   "pygments_lexer": "ipython3",
   "version": "3.5.6"
  }
 },
 "nbformat": 4,
 "nbformat_minor": 5
}
