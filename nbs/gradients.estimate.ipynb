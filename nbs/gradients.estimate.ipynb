{
 "cells": [
  {
   "cell_type": "code",
   "execution_count": null,
   "id": "83f1f5e4",
   "metadata": {},
   "outputs": [],
   "source": [
    "#default_exp gradients.estimate"
   ]
  },
  {
   "cell_type": "code",
   "execution_count": null,
   "id": "611ecbd0",
   "metadata": {},
   "outputs": [],
   "source": [
    "#     def get_dF_js_idM(self, M, N, M_tangent_bundle_sub, N_tangent_bundle, selectedpoints, dim = None):\n",
    "\n",
    "#         if dim == None:\n",
    "#             dim = self.dim\n",
    "#         m = self.m\n",
    "#         affinity_matrix = M.geom.affinity_matrix\n",
    "\n",
    "#         nsel = len(selectedpoints)\n",
    "#         dF = np.zeros((nsel, m, dim))\n",
    "\n",
    "#         for i in range(nsel):\n",
    "#             pt = selectedpoints[i]\n",
    "#             neighborspt = affinity_matrix[selectedpoints[i]].indices\n",
    "#             deltap0 = M.data[neighborspt, :] - M.data[pt, :]\n",
    "#             deltaq0 = N.data[neighborspt, :] - N.data[pt, :]\n",
    "#             projected_M = np.matmul(M_tangent_bundle_sub.tangent_bases[i, :, :].transpose(),\n",
    "#                                     deltap0.transpose()).transpose()\n",
    "#             tan_proj = np.dot(N_tangent_bundle.tangent_bases[selectedpoints[i]],N_tangent_bundle.tangent_bases[selectedpoints[i]].transpose())\n",
    "#             projected_N = np.dot(deltaq0, tan_proj)\n",
    "\n",
    "#             lr = LinearRegression()\n",
    "#             weights = affinity_matrix[selectedpoints[i]].data\n",
    "#             lr.fit(projected_M, projected_N, weights)\n",
    "#             dF[i, :, :][:, :] = lr.coef_#np.linalg.lstsq(projected_M, deltaq0)[0]#np.matmul(a, b).transpose()\n",
    "#         return (dF)"
   ]
  },
  {
   "cell_type": "code",
   "execution_count": null,
   "id": "b647a74f",
   "metadata": {},
   "outputs": [],
   "source": [
    "def get_grads():\n",
    "\n",
    "def get_grads_wls(data, \n",
    "                       embedding,\n",
    "                       geom,\n",
    "                       tangent_bases_M,\n",
    "                       tangent_bases_N,\n",
    "                       selected_points):"
   ]
  },
  {
   "cell_type": "code",
   "execution_count": null,
   "id": "6d9e7165",
   "metadata": {},
   "outputs": [],
   "source": [
    "#export\n",
    "\n",
    "import numpy as np\n",
    "from sklearn.linear_model import LinearRegression\n",
    "\n",
    "def get_grads_pullback(data, \n",
    "               embedding,\n",
    "               geom,\n",
    "               tangent_bases_M,\n",
    "               tangent_bases_N,\n",
    "               selected_points):\n",
    "    \n",
    "    affinity_matrix = geom.affinity_matrix\n",
    "    m = embedding.shape[1]\n",
    "    d = tangent_bases_M.shape[2]\n",
    "    nsel = selected_points.shape[0]\n",
    "    dF = np.zeros((nsel, d, m))\n",
    "    \n",
    "    \n",
    "    for i in range(nsel):\n",
    "        pt = selected_points[i]\n",
    "        neighborspt = affinity_matrix[pt].indices\n",
    "        deltap0 = data[neighborspt, :] - data[pt, :]\n",
    "        deltaq0 = embedding[neighborspt, :] - embedding[pt, :]\n",
    "        projected_M = np.einsum('b d, i b -> i d', tangent_bases_M[i], deltap0)\n",
    "        tangent_bases_N_outer = np.einsum('m d,  n d ->  m n', tangent_bases_N[i], tangent_bases_N[i])\n",
    "        projected_N = np.einsum('m n, i n -> i m', tangent_bases_N_outer, deltaq0)\n",
    "        lr = LinearRegression()\n",
    "        lr.fit(projected_M, projected_N)\n",
    "        #weights = affinity_matrix[selectedpoints[i]].data\n",
    "        #lr.fit(projected_M, projected_N, weights)\n",
    "        dF[i] = lr.coef_.transpose()#np.linalg.lstsq(projected_M, deltaq0)[0]\n",
    "\n",
    "    return(dF)"
   ]
  }
 ],
 "metadata": {
  "kernelspec": {
   "display_name": "manifold_env_april",
   "language": "python",
   "name": "manifold_env_april"
  },
  "language_info": {
   "codemirror_mode": {
    "name": "ipython",
    "version": 3
   },
   "file_extension": ".py",
   "mimetype": "text/x-python",
   "name": "python",
   "nbconvert_exporter": "python",
   "pygments_lexer": "ipython3",
   "version": "3.5.6"
  }
 },
 "nbformat": 4,
 "nbformat_minor": 5
}
