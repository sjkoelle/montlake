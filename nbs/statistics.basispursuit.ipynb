{
 "cells": [
  {
   "cell_type": "code",
   "execution_count": 1,
   "id": "84d23000",
   "metadata": {},
   "outputs": [],
   "source": [
    "# default_exp statistics.basispursuit"
   ]
  },
  {
   "cell_type": "code",
   "execution_count": null,
   "id": "27643780",
   "metadata": {},
   "outputs": [],
   "source": [
    "# export\n",
    "import numpy as np\n",
    "from itertools import combinations\n",
    "\n",
    "def get_basispursuit_losses(X,Y):\n",
    "    \n",
    "    nsel = X.shape[0]\n",
    "    p = X.shape[2]\n",
    "    d = X.shape[1]\n",
    "    n_components = Y.shape[2]\n",
    "    \n",
    "    ols_norms  = np.zeros(np.repeat(p,d))\n",
    "    parameterizations_possible = np.asarray(list(combinations(range(p), d)))\n",
    "    nparameterizations_possible = parameterizations_possible.shape[0]\n",
    "    bp_coeffs = np.zeros((nsel, nparameterizations_possible, d, n_components))\n",
    "    for i in range(nsel):\n",
    "        for j in range(nparameterizations_possible):\n",
    "            bp_coeffs[i, j] = np.linalg.lstsq(X[i, :, parameterizations_possible[j]], Y[i])[0]\n",
    "    for j in range(nparameterizations_possible):\n",
    "        ols_norms[tuple(parameterizations_possible[j])] = np.linalg.norm(bp_coeffs[:,j,:,:], axis = tuple([0,2])).sum()\n",
    "    \n",
    "    return(ols_norms)\n"
   ]
  }
 ],
 "metadata": {
  "kernelspec": {
   "display_name": "manifold_env_april",
   "language": "python",
   "name": "manifold_env_april"
  },
  "language_info": {
   "codemirror_mode": {
    "name": "ipython",
    "version": 3
   },
   "file_extension": ".py",
   "mimetype": "text/x-python",
   "name": "python",
   "nbconvert_exporter": "python",
   "pygments_lexer": "ipython3",
   "version": "3.5.6"
  }
 },
 "nbformat": 4,
 "nbformat_minor": 5
}
