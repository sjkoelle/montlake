{
 "cells": [
  {
   "cell_type": "code",
   "execution_count": null,
   "id": "f4d4125a",
   "metadata": {},
   "outputs": [],
   "source": [
    "#default_exp atomgeom.utils"
   ]
  },
  {
   "cell_type": "code",
   "execution_count": null,
   "id": "8724a468",
   "metadata": {},
   "outputs": [],
   "source": [
    "# export \n",
    "import numpy as np\n",
    "from scipy import sparse\n",
    "\n",
    "def get_atoms_4(natoms, ii, jj):\n",
    "    # ii = self.ii\n",
    "    # jj = self.jj\n",
    "    natoms = natoms\n",
    "    adj = np.asarray([ii, jj])\n",
    "    adj2 = adj.copy()\n",
    "    adj2[0, :] = adj[1, :]\n",
    "    adj2[1, :] = adj[0, :]\n",
    "    adjacencymatrix = np.concatenate([adj, adj2], axis=1)\n",
    "    ii = adjacencymatrix[0, :]\n",
    "    jj = adjacencymatrix[1, :]\n",
    "    # ii = ii - 1\n",
    "    # jj = jj - 1\n",
    "    # known adjacencies\n",
    "    molecularadjacencymatrix = sparse.csr_matrix((np.ones(len(ii)), (ii, jj)))\n",
    "    # compute atomic tetrahedra with central atoms in middle two coordinates\n",
    "    atoms4 = np.ones((1, 4))\n",
    "    for i in range(natoms):\n",
    "        nebs = molecularadjacencymatrix[i].indices\n",
    "        # nnebs = len(molecularadjacencymatrix[i].indices)\n",
    "        for j in nebs:\n",
    "            if j > i:\n",
    "                i1s = np.setdiff1d(molecularadjacencymatrix[i].indices, j)\n",
    "                j1s = np.setdiff1d(molecularadjacencymatrix[j].indices, i)\n",
    "                for j1 in j1s:\n",
    "                    for i1 in i1s:\n",
    "                        atom4 = np.reshape(np.asarray([i1, i, j, j1, ]), (1, 4))\n",
    "                        atoms4 = np.concatenate((atoms4, atom4), axis=0)\n",
    "    atoms4 = atoms4[1:atoms4.shape[0], :]\n",
    "    atoms4 = np.asarray(atoms4, dtype=int)\n",
    "    return (atoms4, atoms4.shape[0])"
   ]
  }
 ],
 "metadata": {
  "kernelspec": {
   "display_name": "manifold_env_april",
   "language": "python",
   "name": "manifold_env_april"
  },
  "language_info": {
   "codemirror_mode": {
    "name": "ipython",
    "version": 3
   },
   "file_extension": ".py",
   "mimetype": "text/x-python",
   "name": "python",
   "nbconvert_exporter": "python",
   "pygments_lexer": "ipython3",
   "version": "3.5.6"
  }
 },
 "nbformat": 4,
 "nbformat_minor": 5
}
