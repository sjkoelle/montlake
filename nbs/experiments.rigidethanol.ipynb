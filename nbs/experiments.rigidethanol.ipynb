{
 "cells": [
  {
   "cell_type": "code",
   "execution_count": 2,
   "id": "62ecbcea",
   "metadata": {},
   "outputs": [
    {
     "ename": "ImportError",
     "evalue": "No module named 'atomgeom'",
     "output_type": "error",
     "traceback": [
      "\u001b[0;31m---------------------------------------------------------------------------\u001b[0m",
      "\u001b[0;31mImportError\u001b[0m                               Traceback (most recent call last)",
      "\u001b[0;32m<ipython-input-2-5b0c648cf675>\u001b[0m in \u001b[0;36m<module>\u001b[0;34m()\u001b[0m\n\u001b[1;32m     15\u001b[0m \u001b[0;34m\u001b[0m\u001b[0m\n\u001b[1;32m     16\u001b[0m \u001b[0;34m\u001b[0m\u001b[0m\n\u001b[0;32m---> 17\u001b[0;31m \u001b[0;32mimport\u001b[0m \u001b[0matomgeom\u001b[0m\u001b[0;34m.\u001b[0m\u001b[0mget_features\u001b[0m\u001b[0;34m\u001b[0m\u001b[0m\n\u001b[0m\u001b[1;32m     18\u001b[0m \u001b[0;32mimport\u001b[0m \u001b[0matomgeom\u001b[0m\u001b[0;34m.\u001b[0m\u001b[0mget_grads\u001b[0m\u001b[0;34m\u001b[0m\u001b[0m\n\u001b[1;32m     19\u001b[0m \u001b[0;32mimport\u001b[0m \u001b[0msimulations\u001b[0m\u001b[0;34m.\u001b[0m\u001b[0mget_rigid_ethanol_data\u001b[0m\u001b[0;34m\u001b[0m\u001b[0m\n",
      "\u001b[0;31mImportError\u001b[0m: No module named 'atomgeom'"
     ]
    }
   ],
   "source": [
    "import os\n",
    "import datetime\n",
    "import numpy as np\n",
    "import dill as pickle\n",
    "import random\n",
    "import sys\n",
    "from sklearn.decomposition import TruncatedSVD\n",
    "\n",
    "np.random.seed(0)\n",
    "random.seed(0)\n",
    "now = datetime.datetime.now().strftime(\"%B_%d_%Y_%H_%M_%S\")\n",
    "workingdirectory = os.popen('git rev-parse --show-toplevel').read()[:-1]\n",
    "sys.path.append(workingdirectory)\n",
    "os.chdir(workingdirectory)\n",
    "\n",
    "\n",
    "import atomgeom.get_features\n",
    "import atomgeom.get_grads\n",
    "import simulations.get_rigid_ethanol_data\n",
    "\n",
    "n = 10000  # number of data points to simulate\n",
    "nsel = 100  # number of points to analyze with lasso\n",
    "n_neighbors = 1000  # number of neighbors in megaman\n",
    "m = 3  # number of embedding dimensions (diffusion maps)\n",
    "diffusion_time = 0.05  # embedding radius\n",
    "dim = 2  # manifold dimension\n",
    "dimnoise = 2  # manifold dimension (not in mflasso paper)\n",
    "cores = 3\n",
    "nreps = 1\n",
    "natoms = 9\n",
    "ii = np.asarray([0, 0, 0, 0, 1, 1, 1, 2])  # atom adjacencies for dihedral angle computation\n",
    "jj = np.asarray([1, 2, 3, 4, 5, 6, 7, 8])\n",
    "\n",
    "savename = 'rigidethanol_021521'\n",
    "savefolder = 'rigidethanol'\n",
    "data_wd = '/Users/samsonkoelle/Downloads/manigrad-100818/mani-samk-gradients/'\n"
   ]
  },
  {
   "cell_type": "code",
   "execution_count": null,
   "id": "dd334893",
   "metadata": {},
   "outputs": [],
   "source": [
    "positions = get_rigid_ethanol_data(cor=0., xvar=0., cores=3, atoms3=experiment.atoms3, noise=False)\n",
    "natoms = positions.shape[1]\n",
    "atoms2 = np.asarray(list(itertools.combinations(range(natoms), 2)))\n",
    "atoms3 = np.asarray(list(itertools.combinations(range(natoms), 3)))\n",
    "atoms4 = np.asarray(list(itertools.combinations(range(natoms), 4)))\n",
    "features = get_features(positions=positions, atoms2 = atoms2, atoms3 = atoms3, atoms4 = atoms4)\n",
    "gradients = get_gradients(positions = positions, atoms2 = atoms2, atoms3 = atoms3, atoms4 = atoms4, selected_points = selected_points)\n",
    "preembedding = #features[1] pca\n",
    "embedding = get_embedding(preembedding)\n",
    "gradient_estimates = get_estimated_gradients(preembedding, )\n",
    "tangent_spaces = get_tangent_spaces()"
   ]
  }
 ],
 "metadata": {
  "kernelspec": {
   "display_name": "manifold_env_april",
   "language": "python",
   "name": "manifold_env_april"
  },
  "language_info": {
   "codemirror_mode": {
    "name": "ipython",
    "version": 3
   },
   "file_extension": ".py",
   "mimetype": "text/x-python",
   "name": "python",
   "nbconvert_exporter": "python",
   "pygments_lexer": "ipython3",
   "version": "3.5.6"
  }
 },
 "nbformat": 4,
 "nbformat_minor": 5
}
