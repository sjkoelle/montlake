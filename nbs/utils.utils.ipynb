{
 "cells": [
  {
   "cell_type": "code",
   "execution_count": null,
   "id": "e137c2a0",
   "metadata": {},
   "outputs": [],
   "source": [
    "#default_exp utils.utils"
   ]
  },
  {
   "cell_type": "code",
   "execution_count": null,
   "id": "20e180ed",
   "metadata": {},
   "outputs": [],
   "source": [
    "#export \n",
    "import numpy as np\n",
    "from einops import rearrange\n",
    "\n",
    "def get_234_indices(selected_indices, natoms4, natoms2, natoms3, order234 = [2,0,1]):\n",
    "    '''\n",
    "    Get indices in dictionary of each functions set ordered by order234'''\n",
    "    lens = [natoms2, natoms3,natoms4]\n",
    "    \n",
    "    combostart = [0, lens[order234[0]], lens[order234[0]] + lens[order234[1]], lens[order234[0]] + lens[order234[1]]+ lens[order234[2]]]\n",
    "    \n",
    "    nsel = len(selected_indices)\n",
    "    functionset_id = np.zeros(nsel)\n",
    "    for j in range(nsel):\n",
    "        for i in range(len(combostart) - 1):\n",
    "            if selected_indices[j] > combostart[i] and selected_indices[j] < combostart[i+1] :\n",
    "                #print('here')\n",
    "                functionset_id[j] = i\n",
    "                \n",
    "    return(np.asarray(functionset_id , dtype = int),combostart)\n",
    "\n",
    "def get_atoms4_full(atoms4):\n",
    "    \n",
    "    combos4 = np.asarray([[0, 1, 2,3],\n",
    "                         [1,2,3,0],\n",
    "                         [2,3,0,1],\n",
    "                         [3,0,1,2],\n",
    "                         [0, 1,3,2],\n",
    "                         [1,0,2,3] ])    \n",
    "    \n",
    "    atoms4full = np.asarray([atoms4[:,c] for c in combos4])\n",
    "    atoms4full = rearrange(atoms4full,'i j k -> (j i) k')\n",
    "    return(atoms4full)\n",
    "\n",
    "def get_atoms3_full(atoms3):\n",
    "    \n",
    "    combos3 = np.asarray([[0, 1, 2],\n",
    "                         [1,2,0],\n",
    "                        [2,0,1]])  \n",
    "    \n",
    "    atoms3full = np.asarray([atoms3[:,c] for c in combos3])\n",
    "    atoms3full = rearrange(atoms3full,'i j k -> (j i ) k')\n",
    "    return(atoms3full)\n",
    "\n",
    "def data_stream_custom_range(selind):\n",
    "    for i in range(len(selind)):\n",
    "        yield i"
   ]
  }
 ],
 "metadata": {
  "kernelspec": {
   "display_name": "manifold_env_april",
   "language": "python",
   "name": "manifold_env_april"
  },
  "language_info": {
   "codemirror_mode": {
    "name": "ipython",
    "version": 3
   },
   "file_extension": ".py",
   "mimetype": "text/x-python",
   "name": "python",
   "nbconvert_exporter": "python",
   "pygments_lexer": "ipython3",
   "version": "3.5.6"
  }
 },
 "nbformat": 4,
 "nbformat_minor": 5
}
