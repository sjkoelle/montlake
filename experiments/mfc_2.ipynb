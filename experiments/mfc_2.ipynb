{
 "cells": [
  {
   "cell_type": "code",
   "execution_count": 1,
   "id": "f5e62bac",
   "metadata": {},
   "outputs": [],
   "source": [
    "import numpy as np\n",
    "from montlake.vendor.tfcompat.hparam import HParams\n",
    "from montlake.exec.run_exp import subset_data\n",
    "\n",
    "import itertools\n",
    "import numpy as np\n",
    "import scipy\n",
    "import json\n",
    "# export \n",
    "\n",
    "from montlake.atomgeom.features import get_features,get_D_feats_feats\n",
    "from montlake.atomgeom.utils import get_atoms_4\n",
    "from montlake.simulations.rigidethanol import get_rigid_ethanol_data\n",
    "from montlake.utils.utils import get_234_indices, get_atoms3_full, get_atoms4_full, data_stream_custom_range, get_cosines\n",
    "from montlake.geometry.geometry import get_geom, get_wlpca_tangent_sel, get_rm_tangent_sel\n",
    "from montlake.gradients.estimate import get_grads_pullback\n",
    "from montlake.statistics.normalization import normalize_L212\n",
    "from montlake.optimization.gradientgrouplasso import get_sr_lambda_parallel\n",
    "from montlake.optimization.utils import get_selected_function_ids,get_selected_functions_lm2\n",
    "from montlake.utils.replicates import Replicate, get_supports_brute,get_supports_lasso\n",
    "\n",
    "from megaman.embedding import SpectralEmbedding\n",
    "\n",
    "import dill as pickle\n",
    "import os\n",
    "import sys\n",
    "import numpy as np\n",
    "import itertools\n",
    "from itertools import permutations,combinations\n",
    "from sklearn.decomposition import TruncatedSVD\n",
    "import pathos\n",
    "from pathos.multiprocessing import ProcessingPool as Pool"
   ]
  },
  {
   "cell_type": "code",
   "execution_count": 2,
   "id": "fa874c08",
   "metadata": {},
   "outputs": [
    {
     "name": "stdout",
     "output_type": "stream",
     "text": [
      "50000  points avaiable\n"
     ]
    }
   ],
   "source": [
    "\n",
    "config_file = '/Users/samsonkoelle/tunatostada/experiments/configs/malonaldehyde_full.json'\n",
    "\n",
    "config = {}\n",
    "with open(config_file) as f:\n",
    "    config.update(json.load(f))\n",
    "\n",
    "args = {}\n",
    "args['outdir'] = '/Users/samsonkoelle/'\n",
    "args['raw_data'] = '/Users/samsonkoelle/thesis_data/raw_data/malonaldehyde.mat'\n",
    "args['nreps'] = 1\n",
    "args['mflasso'] = True\n",
    "args['name'] = \"mal_full_mf\"\n",
    "config.update(args)\n",
    "\n",
    "hparams = HParams(**config)\n",
    "#    if hparams.data_sub == None:\n",
    "positions, randomindices = subset_data(hparams)\n",
    "\n",
    "#angle_indices = np.load('/Users/samsonkoelle/thesis_data/raw_data/malonaldehydeindices022119.npy')\n",
    "#positions_all = scipy.io.loadmat(hparams.raw_data)\n",
    "#positions = positions_all['R'][angle_indices]\n",
    "hparams.radius = 3.545"
   ]
  },
  {
   "cell_type": "code",
   "execution_count": 3,
   "id": "c461dcf9",
   "metadata": {},
   "outputs": [
    {
     "name": "stdout",
     "output_type": "stream",
     "text": [
      "loading geometric features\n",
      "computing featurization\n",
      "feature dimensions 234 (0,) (252, 3) (0,)\n",
      "computing geometry\n",
      "computing embedding\n"
     ]
    },
    {
     "name": "stderr",
     "output_type": "stream",
     "text": [
      "/Users/samsonkoelle/miniconda3/envs/manifold_env_april/lib/python3.5/site-packages/sklearn/utils/validation.py:457: DeprecationWarning: Passing 'None' to parameter 'accept_sparse' in methods check_array and check_X_y is deprecated in version 0.19 and will be removed in 0.21. Use 'accept_sparse=False'  instead.\n",
      "  \" instead.\", DeprecationWarning)\n"
     ]
    },
    {
     "name": "stdout",
     "output_type": "stream",
     "text": [
      "getting gradients\n"
     ]
    }
   ],
   "source": [
    "    d = hparams.d\n",
    "    n_components = hparams.n_components\n",
    "    atoms2_feat = hparams.atoms2_feat\n",
    "    atoms3_feat = hparams.atoms3_feat\n",
    "    atoms4_feat = hparams.atoms4_feat\n",
    "    atoms2_dict = hparams.atoms2_dict\n",
    "    atoms3_dict = hparams.atoms3_dict\n",
    "    atoms4_dict = hparams.atoms4_dict\n",
    "    diagram = hparams.diagram\n",
    "\n",
    "    ii = np.asarray(hparams.ii)\n",
    "    jj = np.asarray(hparams.jj)\n",
    "    outfile = hparams.outdir + '/' + hparams.name + 'results_mflasso'\n",
    "    print('loading geometric features')\n",
    "    natoms = positions.shape[1]\n",
    "    n = positions.shape[0]\n",
    "    atoms2 = np.asarray(list(itertools.combinations(range(natoms), 2)))\n",
    "    atoms2full = atoms2\n",
    "    atoms3 = np.asarray(list(itertools.combinations(range(natoms), 3)))\n",
    "    atoms4 = np.asarray(list(itertools.combinations(range(natoms), 4)))\n",
    "    atoms3full = get_atoms3_full(atoms3)\n",
    "    atoms4full = get_atoms4_full(atoms4)\n",
    "\n",
    "    if atoms2_feat:\n",
    "        atoms2_feats = atoms2full\n",
    "    else:\n",
    "        atoms2_feats = np.asarray([])\n",
    "\n",
    "    if atoms3_feat:\n",
    "        atoms3_feats = atoms3full\n",
    "    else:\n",
    "        atoms3_feats = np.asarray([])\n",
    "\n",
    "    if atoms4_feat:\n",
    "        atoms4_feats = atoms4full\n",
    "    else:\n",
    "        atoms4_feats = np.asarray([])\n",
    "\n",
    "    print('computing featurization')\n",
    "    cores = pathos.multiprocessing.cpu_count() - 1\n",
    "    pool = Pool(cores)\n",
    "    print('feature dimensions 234',atoms2_feats.shape, atoms3_feats.shape,atoms4_feats.shape)\n",
    "    #pool.close()\n",
    "    #pool.restart()\n",
    "    results = pool.map(lambda i: get_features(positions[i],\n",
    "                               atoms2 = atoms2_feats,\n",
    "                               atoms3 = atoms3_feats,\n",
    "                               atoms4 = atoms4_feats),\n",
    "        data_stream_custom_range(list(range(n))))\n",
    "    data = np.vstack([np.hstack(results[i]) for i in range(n)])\n",
    "    #data = data - np.mean(data, axis = 0)\n",
    "    svd = TruncatedSVD(n_components=50)\n",
    "    data_svd = svd.fit_transform(data)\n",
    "\n",
    "    print('computing geometry')\n",
    "    radius = hparams.radius\n",
    "    n_neighbors = hparams.n_neighbors\n",
    "    geom = get_geom(data_svd, radius, n_neighbors)\n",
    "\n",
    "    print('computing embedding')\n",
    "    spectral_embedding = SpectralEmbedding(n_components=n_components,eigen_solver='arpack',geom=geom)\n",
    "    embed_spectral = spectral_embedding.fit_transform(data_svd)\n",
    "\n",
    "    print('getting gradients')\n",
    "    if atoms2_dict:\n",
    "        atoms2_dicts = atoms2full\n",
    "    else:\n",
    "        atoms2_dicts = np.asarray([])\n",
    "    if atoms3_dict:\n",
    "        atoms3_dicts = atoms3full\n",
    "    else:\n",
    "        atoms3_dicts = np.asarray([])\n",
    "    atoms4_dicts= get_atoms_4(natoms, ii, jj)[0]\n",
    "    \n",
    "    p = len(atoms2_dicts) + len(atoms3_dicts) + len(atoms4_dicts)\n",
    "    replicates = {}\n",
    "    embedding = embed_spectral\n",
    "    nreps = 1\n"
   ]
  },
  {
   "cell_type": "code",
   "execution_count": 7,
   "id": "faacb1f1",
   "metadata": {},
   "outputs": [
    {
     "data": {
      "text/plain": [
       "(50000, 3)"
      ]
     },
     "execution_count": 7,
     "metadata": {},
     "output_type": "execute_result"
    }
   ],
   "source": [
    "embed_spectral"
   ]
  },
  {
   "cell_type": "code",
   "execution_count": null,
   "id": "bc591ded",
   "metadata": {},
   "outputs": [],
   "source": [
    "alpha = 1\n",
    "s = 1\n",
    "title = 'Malonaldehyde'\n",
    "n = 50000\n",
    "colors = np.vstack([np.hstack(results['selected_function_values'][i]) for i in range(n)])\n",
    "c= colors[:,0]\n",
    "embed = results['embed']\n",
    "plot_manifold_3d(embed_spectral, s, alpha, c, title)#from montlake.plotting.manifold import plot_manifold"
   ]
  },
  {
   "cell_type": "code",
   "execution_count": 4,
   "id": "84c32ab2",
   "metadata": {},
   "outputs": [],
   "source": [
    "    nsel = 100#hparams.nsel 32413\n",
    "    for r in range(nreps):\n",
    "        replicates[r] = Replicate(nsel = 100, n = 50000)\n",
    "        #replicates[r] = Replicate(selected_points = [32413], n = 50000)\n",
    "        replicates[r].tangent_bases_M = get_wlpca_tangent_sel(data_svd, geom, replicates[r].selected_points, d)\n",
    "        D_feats_feats = np.asarray([get_D_feats_feats(positions[replicates[r].selected_points[i]],\n",
    "                   atoms2in = atoms2_feats,\n",
    "                   atoms3in = atoms3_feats,\n",
    "                   atoms4in = atoms4_feats,\n",
    "                   atoms2out = atoms2_dicts,\n",
    "                   atoms3out = atoms3_dicts,\n",
    "                   atoms4out = atoms4_dicts) for i in range(nsel)])\n",
    "        replicates[r].dg_x = np.asarray([svd.transform(D_feats_feats[i].transpose()).transpose() for i in range(nsel)])\n",
    "        replicates[r].dg_x_normalized = normalize_L212(replicates[r].dg_x)\n",
    "        replicates[r].dg_M = np.einsum('i b p, i b d -> i d p', replicates[r].dg_x_normalized, replicates[r].tangent_bases_M)\n"
   ]
  },
  {
   "cell_type": "code",
   "execution_count": 5,
   "id": "cbbe7099",
   "metadata": {},
   "outputs": [],
   "source": [
    "    cosine = get_cosines(replicates[0].dg_M)\n",
    "    cosine_abs = np.mean(np.abs(cosine), axis = 0)\n",
    "    "
   ]
  },
  {
   "cell_type": "code",
   "execution_count": 6,
   "id": "1b0f3582",
   "metadata": {},
   "outputs": [
    {
     "data": {
      "text/plain": [
       "array([[1.        , 0.99645779, 0.99472244, 0.99073448, 0.99484645,\n",
       "        0.99129501, 0.16500473, 0.1751039 , 0.17067533, 0.15845808,\n",
       "        0.16862049, 0.16658426],\n",
       "       [0.99645779, 1.        , 0.99342787, 0.99546294, 0.99285749,\n",
       "        0.99554561, 0.15450148, 0.15805404, 0.15068959, 0.14707917,\n",
       "        0.15173088, 0.15027997],\n",
       "       [0.99472244, 0.99342787, 1.        , 0.99714028, 0.99788656,\n",
       "        0.99562929, 0.1646736 , 0.18996258, 0.18073072, 0.15840727,\n",
       "        0.18174611, 0.17847386],\n",
       "       [0.99073448, 0.99546294, 0.99714028, 1.        , 0.994486  ,\n",
       "        0.99807572, 0.16229515, 0.18736715, 0.17356945, 0.15392666,\n",
       "        0.1755635 , 0.1692167 ],\n",
       "       [0.99484645, 0.99285749, 0.99788656, 0.994486  , 1.        ,\n",
       "        0.9969083 , 0.17076235, 0.19484138, 0.18935942, 0.16763937,\n",
       "        0.19063195, 0.19057273],\n",
       "       [0.99129501, 0.99554561, 0.99562929, 0.99807572, 0.9969083 ,\n",
       "        1.        , 0.16233513, 0.18610413, 0.1773626 , 0.15662977,\n",
       "        0.17728825, 0.17594583],\n",
       "       [0.16500473, 0.15450148, 0.1646736 , 0.16229515, 0.17076235,\n",
       "        0.16233513, 1.        , 0.99472009, 0.99476114, 0.9969209 ,\n",
       "        0.99315204, 0.99247051],\n",
       "       [0.1751039 , 0.15805404, 0.18996258, 0.18736715, 0.19484138,\n",
       "        0.18610413, 0.99472009, 1.        , 0.99786422, 0.99105079,\n",
       "        0.9973178 , 0.9948371 ],\n",
       "       [0.17067533, 0.15068959, 0.18073072, 0.17356945, 0.18935942,\n",
       "        0.1773626 , 0.99476114, 0.99786422, 1.        , 0.99183207,\n",
       "        0.99611261, 0.99738923],\n",
       "       [0.15845808, 0.14707917, 0.15840727, 0.15392666, 0.16763937,\n",
       "        0.15662977, 0.9969209 , 0.99105079, 0.99183207, 1.        ,\n",
       "        0.99501889, 0.99491368],\n",
       "       [0.16862049, 0.15173088, 0.18174611, 0.1755635 , 0.19063195,\n",
       "        0.17728825, 0.99315204, 0.9973178 , 0.99611261, 0.99501889,\n",
       "        1.        , 0.99823849],\n",
       "       [0.16658426, 0.15027997, 0.17847386, 0.1692167 , 0.19057273,\n",
       "        0.17594583, 0.99247051, 0.9948371 , 0.99738923, 0.99491368,\n",
       "        0.99823849, 1.        ]])"
      ]
     },
     "execution_count": 6,
     "metadata": {},
     "output_type": "execute_result"
    }
   ],
   "source": [
    "cosine_abs"
   ]
  },
  {
   "cell_type": "code",
   "execution_count": 6,
   "id": "27029e31",
   "metadata": {},
   "outputs": [
    {
     "data": {
      "text/plain": [
       "array([[1.        , 0.99068505, 0.99524824, 0.98657156, 0.99418384,\n",
       "        0.98443742, 0.17903933, 0.19188834, 0.19089276, 0.17465749,\n",
       "        0.18816307, 0.18810075],\n",
       "       [0.99068505, 1.        , 0.98943639, 0.99591385, 0.98993213,\n",
       "        0.99542733, 0.15921578, 0.16479838, 0.17035501, 0.15619027,\n",
       "        0.16083618, 0.16613559],\n",
       "       [0.99524824, 0.98943639, 1.        , 0.99345119, 0.99740612,\n",
       "        0.98958804, 0.16756434, 0.19962498, 0.19490434, 0.16547116,\n",
       "        0.19657793, 0.19174497],\n",
       "       [0.98657156, 0.99591385, 0.99345119, 1.        , 0.99204597,\n",
       "        0.99740325, 0.15522126, 0.17585005, 0.17897211, 0.15397652,\n",
       "        0.1720543 , 0.17344077],\n",
       "       [0.99418384, 0.98993213, 0.99740612, 0.99204597, 1.        ,\n",
       "        0.99321789, 0.17197407, 0.19940124, 0.19337385, 0.1724485 ,\n",
       "        0.19452915, 0.18970755],\n",
       "       [0.98443742, 0.99542733, 0.98958804, 0.99740325, 0.99321789,\n",
       "        1.        , 0.16129063, 0.17534108, 0.17837053, 0.16400831,\n",
       "        0.17337653, 0.17463511],\n",
       "       [0.17903933, 0.15921578, 0.16756434, 0.15522126, 0.17197407,\n",
       "        0.16129063, 1.        , 0.99424661, 0.99523619, 0.99588331,\n",
       "        0.99184499, 0.9930887 ],\n",
       "       [0.19188834, 0.16479838, 0.19962498, 0.17585005, 0.19940124,\n",
       "        0.17534108, 0.99424661, 1.        , 0.99746769, 0.98838409,\n",
       "        0.99544861, 0.99327935],\n",
       "       [0.19089276, 0.17035501, 0.19490434, 0.17897211, 0.19337385,\n",
       "        0.17837053, 0.99523619, 0.99746769, 1.        , 0.98867617,\n",
       "        0.99219121, 0.99522992],\n",
       "       [0.17465749, 0.15619027, 0.16547116, 0.15397652, 0.1724485 ,\n",
       "        0.16400831, 0.99588331, 0.98838409, 0.98867617, 1.        ,\n",
       "        0.99428303, 0.99493892],\n",
       "       [0.18816307, 0.16083618, 0.19657793, 0.1720543 , 0.19452915,\n",
       "        0.17337653, 0.99184499, 0.99544861, 0.99219121, 0.99428303,\n",
       "        1.        , 0.99704963],\n",
       "       [0.18810075, 0.16613559, 0.19174497, 0.17344077, 0.18970755,\n",
       "        0.17463511, 0.9930887 , 0.99327935, 0.99522992, 0.99493892,\n",
       "        0.99704963, 1.        ]])"
      ]
     },
     "execution_count": 6,
     "metadata": {},
     "output_type": "execute_result"
    }
   ],
   "source": [
    "cosine_abs"
   ]
  },
  {
   "cell_type": "code",
   "execution_count": 9,
   "id": "a0f7a375",
   "metadata": {},
   "outputs": [
    {
     "data": {
      "text/plain": [
       "array([[1.        , 0.99665977, 0.99676816, 0.99293466, 0.99692968,\n",
       "        0.99301677, 0.16508702, 0.17118126, 0.17304738, 0.16009655,\n",
       "        0.17291215, 0.17597352],\n",
       "       [0.99665977, 1.        , 0.99374891, 0.99653378, 0.993998  ,\n",
       "        0.99684432, 0.16465292, 0.17124612, 0.17521698, 0.1594505 ,\n",
       "        0.17175456, 0.17319489],\n",
       "       [0.99676816, 0.99374891, 1.        , 0.99655121, 0.99786316,\n",
       "        0.99422316, 0.15418957, 0.17009788, 0.17665551, 0.15145762,\n",
       "        0.16996545, 0.17833666],\n",
       "       [0.99293466, 0.99653378, 0.99655121, 1.        , 0.99450819,\n",
       "        0.99766771, 0.16058522, 0.1800734 , 0.18705669, 0.15410762,\n",
       "        0.17426175, 0.18082419],\n",
       "       [0.99692968, 0.993998  , 0.99786316, 0.99450819, 1.        ,\n",
       "        0.99645226, 0.16373543, 0.18070637, 0.18714089, 0.16159465,\n",
       "        0.18018454, 0.18902271],\n",
       "       [0.99301677, 0.99684432, 0.99422316, 0.99766771, 0.99645226,\n",
       "        1.        , 0.16927137, 0.18774086, 0.1934368 , 0.16282352,\n",
       "        0.18392293, 0.19136472],\n",
       "       [0.16508702, 0.16465292, 0.15418957, 0.16058522, 0.16373543,\n",
       "        0.16927137, 1.        , 0.99483793, 0.99487348, 0.99683655,\n",
       "        0.99248687, 0.99156968],\n",
       "       [0.17118126, 0.17124612, 0.17009788, 0.1800734 , 0.18070637,\n",
       "        0.18774086, 0.99483793, 1.        , 0.99721164, 0.99157257,\n",
       "        0.99703543, 0.99335305],\n",
       "       [0.17304738, 0.17521698, 0.17665551, 0.18705669, 0.18714089,\n",
       "        0.1934368 , 0.99487348, 0.99721164, 1.        , 0.99246935,\n",
       "        0.99515668, 0.99700379],\n",
       "       [0.16009655, 0.1594505 , 0.15145762, 0.15410762, 0.16159465,\n",
       "        0.16282352, 0.99683655, 0.99157257, 0.99246935, 1.        ,\n",
       "        0.99519461, 0.99510459],\n",
       "       [0.17291215, 0.17175456, 0.16996545, 0.17426175, 0.18018454,\n",
       "        0.18392293, 0.99248687, 0.99703543, 0.99515668, 0.99519461,\n",
       "        1.        , 0.9971649 ],\n",
       "       [0.17597352, 0.17319489, 0.17833666, 0.18082419, 0.18902271,\n",
       "        0.19136472, 0.99156968, 0.99335305, 0.99700379, 0.99510459,\n",
       "        0.9971649 , 1.        ]])"
      ]
     },
     "execution_count": 9,
     "metadata": {},
     "output_type": "execute_result"
    }
   ],
   "source": [
    "cosine_abs"
   ]
  },
  {
   "cell_type": "code",
   "execution_count": null,
   "id": "782ef135",
   "metadata": {},
   "outputs": [],
   "source": []
  }
 ],
 "metadata": {
  "kernelspec": {
   "display_name": "manifold_env_april",
   "language": "python",
   "name": "manifold_env_april"
  },
  "language_info": {
   "codemirror_mode": {
    "name": "ipython",
    "version": 3
   },
   "file_extension": ".py",
   "mimetype": "text/x-python",
   "name": "python",
   "nbconvert_exporter": "python",
   "pygments_lexer": "ipython3",
   "version": "3.5.6"
  }
 },
 "nbformat": 4,
 "nbformat_minor": 5
}
