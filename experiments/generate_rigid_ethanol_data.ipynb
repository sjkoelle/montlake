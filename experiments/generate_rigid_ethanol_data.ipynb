{
 "cells": [
  {
   "cell_type": "code",
   "execution_count": 2,
   "id": "14f2c42b",
   "metadata": {},
   "outputs": [],
   "source": [
    "from montlake.simulations.rigidethanol import get_rigid_ethanol_data\n",
    "import numpy as np"
   ]
  },
  {
   "cell_type": "code",
   "execution_count": 3,
   "id": "deff9b86",
   "metadata": {},
   "outputs": [],
   "source": [
    "xvar = 0.\n",
    "positions = get_rigid_ethanol_data(xvar, noise = False)\n",
    "np.save(positions, '/Users/samsonkoelle/Desktop/rigidethanol_nonoise.npy')"
   ]
  }
 ],
 "metadata": {
  "kernelspec": {
   "display_name": "manifold_env_april",
   "language": "python",
   "name": "manifold_env_april"
  },
  "language_info": {
   "codemirror_mode": {
    "name": "ipython",
    "version": 3
   },
   "file_extension": ".py",
   "mimetype": "text/x-python",
   "name": "python",
   "nbconvert_exporter": "python",
   "pygments_lexer": "ipython3",
   "version": "3.5.6"
  }
 },
 "nbformat": 4,
 "nbformat_minor": 5
}
