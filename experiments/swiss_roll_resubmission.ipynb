{
 "cells": [
  {
   "cell_type": "code",
   "execution_count": 1,
   "id": "7861d4b9",
   "metadata": {},
   "outputs": [],
   "source": [
    "from montlake.optimization.gradientgrouplasso import get_sr_lambda_parallel\n",
    "from montlake.simulations.swissroll import get_swiss_roll_data, get_swiss_roll_gradients\n",
    "from montlake.geometry.geometry import get_geom, get_wlpca_tangent_sel, get_rm_tangent_sel\n",
    "from montlake.utils.replicates import Replicate\n",
    "from montlake.statistics.normalization import normalize_L212\n",
    "from montlake.gradients.estimate import get_grads_pullback\n",
    "from megaman.embedding import LTSA\n",
    "from megaman.embedding import Isomap\n",
    "from megaman.embedding import SpectralEmbedding\n",
    "import matplotlib.pyplot as plt\n",
    "import numpy as np"
   ]
  },
  {
   "cell_type": "code",
   "execution_count": 2,
   "id": "1da0615f",
   "metadata": {},
   "outputs": [],
   "source": [
    "data, rotator, ts, ys = get_swiss_roll_data(n = 10000, theta =np.pi / 4,xvar = 0., rotate = True, b = 49)\n",
    "radius = 1.88\n",
    "n_neighbors = 100\n",
    "geom = get_geom(data, radius, n_neighbors)  "
   ]
  },
  {
   "cell_type": "code",
   "execution_count": 3,
   "id": "e8c36248",
   "metadata": {},
   "outputs": [
    {
     "name": "stderr",
     "output_type": "stream",
     "text": [
      "/Users/samsonkoelle/miniconda3/envs/manifold_env_april/lib/python3.5/site-packages/sklearn/utils/validation.py:457: DeprecationWarning: Passing 'None' to parameter 'accept_sparse' in methods check_array and check_X_y is deprecated in version 0.19 and will be removed in 0.21. Use 'accept_sparse=False'  instead.\n",
      "  \" instead.\", DeprecationWarning)\n",
      "/Users/samsonkoelle/miniconda3/envs/manifold_env_april/lib/python3.5/site-packages/sklearn/utils/validation.py:457: DeprecationWarning: Passing 'None' to parameter 'accept_sparse' in methods check_array and check_X_y is deprecated in version 0.19 and will be removed in 0.21. Use 'accept_sparse=False'  instead.\n",
      "  \" instead.\", DeprecationWarning)\n",
      "/Users/samsonkoelle/miniconda3/envs/manifold_env_april/lib/python3.5/site-packages/sklearn/utils/validation.py:457: DeprecationWarning: Passing 'None' to parameter 'accept_sparse' in methods check_array and check_X_y is deprecated in version 0.19 and will be removed in 0.21. Use 'accept_sparse=False'  instead.\n",
      "  \" instead.\", DeprecationWarning)\n"
     ]
    }
   ],
   "source": [
    "n_components = 2\n",
    "b = 49\n",
    "d = 2\n",
    "ltsa = LTSA(n_components=n_components,eigen_solver='arpack',geom=geom)\n",
    "embed_ltsa = ltsa.fit_transform(data)\n",
    "isomap_embedding = Isomap(n_components=n_components,eigen_solver='arpack',geom=geom)\n",
    "embed_isomap = isomap_embedding.fit_transform(data)\n",
    "spectral_embedding = SpectralEmbedding(n_components=n_components,eigen_solver='arpack',geom=geom)\n",
    "embed_spectral = spectral_embedding.fit_transform(data)\n"
   ]
  },
  {
   "cell_type": "code",
   "execution_count": null,
   "id": "2c66951b",
   "metadata": {},
   "outputs": [],
   "source": [
    "nreps = 1\n",
    "nsel = 100 \n",
    "replicates = {}\n",
    "embedding = embed_spectral\n",
    "for r in range(nreps):\n",
    "    #print(i)\n",
    "    replicates[r] = Replicate(nsel = nsel, n = 10000)\n",
    "    replicates[r].tangent_bases_M = get_wlpca_tangent_sel(data, geom, replicates[r].selected_points, d)\n",
    "    replicates[r].tangent_bases_phi = get_rm_tangent_sel(embedding, geom, replicates[r].selected_points, d)\n",
    "    replicates[r].dg_x = np.asarray([get_swiss_roll_gradients(ts[replicates[r].selected_points[i]], rotator, b) for i in range(nsel)])\n",
    "    replicates[r].dg_x_normalized = normalize_L212(replicates[r].dg_x)\n",
    "    replicates[r].dg_M = np.einsum('i b p, i b d -> i d p', replicates[r].dg_x_normalized, replicates[r].tangent_bases_M)\n",
    "    replicates[r].dphispectral_M = get_grads_pullback(data,  embedding, geom, replicates[r].tangent_bases_M, replicates[r].tangent_bases_phi, replicates[r].selected_points)\n",
    "    replicates[r].dphispectral_M_normalized = normalize_L212(replicates[r].dphispectral_M)\n",
    "    "
   ]
  }
 ],
 "metadata": {
  "kernelspec": {
   "display_name": "manifold_env_april",
   "language": "python",
   "name": "manifold_env_april"
  },
  "language_info": {
   "codemirror_mode": {
    "name": "ipython",
    "version": 3
   },
   "file_extension": ".py",
   "mimetype": "text/x-python",
   "name": "python",
   "nbconvert_exporter": "python",
   "pygments_lexer": "ipython3",
   "version": "3.5.6"
  }
 },
 "nbformat": 4,
 "nbformat_minor": 5
}
