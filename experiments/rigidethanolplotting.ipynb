{
 "cells": [
  {
   "cell_type": "code",
   "execution_count": null,
   "id": "ced84bc9",
   "metadata": {},
   "outputs": [],
   "source": [
    "from montlake.plotting.manifold import plot_manifold\n",
    "from montlake.plotting.plotting import plot_cosines\n",
    "import dill as pickle"
   ]
  },
  {
   "cell_type": "code",
   "execution_count": null,
   "id": "52d67856",
   "metadata": {},
   "outputs": [],
   "source": [
    "infile = '/Users/samsonkoelle/manifoldflasso_jmlr/results/rigidethanol.pkl'\n",
    "with open(infile,'wb') as inp:\n",
    "    results = pickle.load(inp, pickle.HIGHEST_PROTOCOL)"
   ]
  },
  {
   "cell_type": "code",
   "execution_count": null,
   "id": "53f82dc4",
   "metadata": {},
   "outputs": [],
   "source": [
    "#save support recovery statistics\n",
    "columns = np.asarray([r'$\\bar \\mu$', r'$\\sigma_\\mu$',\n",
    "                     r'$\\bar {\\kappa_S}$', r'$\\sigma_{\\kappa_S}$',\n",
    "                     r'$\\bar {\\gamma_{\\text{max}}}$', r'$\\sigma_{\\gamma_{\\text{max}}}$',\n",
    "                     r'$\\bar {\\min_{i = 1}^{n} \\min_{j \\in S } ||x_{ij}|| }$', r'$\\sigma_\\mu$'])\n",
    "\n",
    "df_reth_apriori = pd.DataFrame(np.asarray([np.mean(mus), np.sqrt(np.var(mus)), \n",
    "                    np.mean(kappas), np.sqrt(np.var(kappas)),\n",
    "                    np.mean(gamma_maxs),np.sqrt(np.var(gamma_maxs)),\n",
    "                    np.mean(min_mins),np.sqrt(np.var(min_mins))]).transpose(), index = columns).transpose()\n",
    "\n",
    "#df_reth_apriori.to_csv('/Users/samsonkoelle/Downloads/manigrad-100818/mani-samk-gradients/untracked_data/embeddings/rethdiagramparam.csv')\n"
   ]
  },
  {
   "cell_type": "code",
   "execution_count": null,
   "id": "dfcd6bcf",
   "metadata": {},
   "outputs": [],
   "source": [
    "embedding\n",
    "gs"
   ]
  },
  {
   "cell_type": "code",
   "execution_count": null,
   "id": "768aa920",
   "metadata": {},
   "outputs": [],
   "source": [
    "plot_manifold(embedding, s, alpha, c, title)"
   ]
  },
  {
   "cell_type": "code",
   "execution_count": null,
   "id": "75c8f10a",
   "metadata": {},
   "outputs": [],
   "source": [
    "%matplotlib inline\n",
    "fig, axes_all = plt.subplots(figsize=(15, 10))\n",
    "\n",
    "#[ax.set_axis_off() for ax in axarr.ravel()]\n",
    "colors = np.hstack([np.repeat('orange',9), np.repeat('blue',3)])\n",
    "plot_cosines(cosine_abs, axes_all, colors)\n",
    "plt.tight_layout()\n",
    "#plt.savefig('/Users/samsonkoelle/Downloads/manigrad-100818/mani-samk-gradients/Figures/figure_for_jmlr/re12_cosines')"
   ]
  },
  {
   "cell_type": "code",
   "execution_count": null,
   "id": "002ae6ec",
   "metadata": {},
   "outputs": [],
   "source": [
    "%matplotlib inline\n",
    "fig, axes_all = plt.subplots(figsize=(15, 10))\n",
    "\n",
    "colors = np.hstack([np.repeat('orange',9), np.repeat('blue',3)])\n",
    "plot_reg_path_ax_lambdasearch_customcolors_norm(axes_all, replicates[0].cs_reorder, replicates[0].xaxis_reorder / replicates[0].xaxis_reorder.max(), fig,colors)#axes_all[0].imshow(asdf)\n",
    "axes_all.set_title('Regularization path (single replicate)', fontsize = 40)\n",
    "axes_all.set_ylabel(r'$||\\beta_j||$', fontsize = 40)\n",
    "axes_all.set_xlabel(r'$\\lambda$', fontsize = 40)\n",
    "axes_all.set_xticklabels([])\n",
    "plt.tight_layout()\n",
    "plt.savefig('/Users/samsonkoelle/Downloads/manigrad-100818/mani-samk-gradients/Figures/figure_for_jmlr/re12_replicate')"
   ]
  },
  {
   "cell_type": "code",
   "execution_count": null,
   "id": "28e51a27",
   "metadata": {},
   "outputs": [],
   "source": [
    "fig, axes_all = plt.subplots(figsize=(15, 10))\n",
    "\n",
    "#[ax.set_axis_off() for ax in axarr.ravel()]\n",
    "#colors = np.hstack([np.repeat('orange',9), np.repeat('blue',3)])\n",
    "plot_watch_custom(toplot, 12, axes_all,colors, nreps)\n",
    "axes_all.set_title('Estimated Support', fontsize = 40)\n",
    "plt.tight_layout()\n",
    "plt.savefig('/Users/samsonkoelle/Downloads/manigrad-100818/mani-samk-gradients/Figures/figure_for_jmlr/re12_support')"
   ]
  }
 ],
 "metadata": {
  "kernelspec": {
   "display_name": "manifold_env_april",
   "language": "python",
   "name": "manifold_env_april"
  },
  "language_info": {
   "codemirror_mode": {
    "name": "ipython",
    "version": 3
   },
   "file_extension": ".py",
   "mimetype": "text/x-python",
   "name": "python",
   "nbconvert_exporter": "python",
   "pygments_lexer": "ipython3",
   "version": "3.5.6"
  }
 },
 "nbformat": 4,
 "nbformat_minor": 5
}
